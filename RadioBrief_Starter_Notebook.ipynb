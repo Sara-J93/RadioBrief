{
 "cells": [
  {
   "cell_type": "code",
   "execution_count": null,
   "id": "07dd731b",
   "metadata": {},
   "outputs": [],
   "source": [
    "# 📘 RadioBrief Project – Daily Summarizer & Translator (Colab + OpenAI + Drive)"
   ]
  },
  {
   "cell_type": "code",
   "execution_count": null,
   "id": "e9e414ea",
   "metadata": {},
   "outputs": [],
   "source": [
    "# ✅ SECTION 1: Install & Setup\n",
    "!pip install openai==0.28 --quiet"
   ]
  },
  {
   "cell_type": "code",
   "execution_count": null,
   "id": "ac77f1ff",
   "metadata": {},
   "outputs": [],
   "source": [
    "# ✅ SECTION 2: Mount Google Drive\n",
    "from google.colab import drive\n",
    "drive.mount('/content/drive')"
   ]
  },
  {
   "cell_type": "code",
   "execution_count": null,
   "id": "bcfd887d",
   "metadata": {},
   "outputs": [],
   "source": [
    "# ✅ SECTION 3: Import Libraries & Load API Key\n",
    "import openai\n",
    "import pandas as pd\n",
    "import os\n",
    "from datetime import datetime\n",
    "\n",
    "# Load the OpenAI API key from Google Drive (safe way)\n",
    "with open(\"/content/drive/MyDrive/RadioBrief/openai_key.txt\") as f:\n",
    "    openai.api_key = f.read().strip()"
   ]
  },
  {
   "cell_type": "code",
   "execution_count": null,
   "id": "01809f54",
   "metadata": {},
   "outputs": [],
   "source": [
    "# ✅ SECTION 4: Load Existing CSV (or create if not found)\n",
    "drive_path = \"/content/drive/MyDrive/RadioBrief\"\n",
    "csv_path = f\"{drive_path}/radio_summaries.csv\"\n",
    "\n",
    "try:\n",
    "    df = pd.read_csv(csv_path)\n",
    "    print(\"✅ Loaded existing summary file.\")\n",
    "except FileNotFoundError:\n",
    "    df = pd.DataFrame(columns=[\"Date\", \"Article\", \"Summary_FR\", \"Translation_AR\", \"Topic\"])\n",
    "    print(\"📁 No file found – starting a new table.\")"
   ]
  },
  {
   "cell_type": "code",
   "execution_count": null,
   "id": "8cf5a260",
   "metadata": {},
   "outputs": [],
   "source": [
    "# ✅ SECTION 5: Define GPT Functions (Summarize + Translate)\n",
    "\n",
    "def summarize_article(text):\n",
    "    response = openai.ChatCompletion.create(\n",
    "        model=\"gpt-3.5-turbo\",\n",
    "        messages=[{\n",
    "            \"role\": \"user\",\n",
    "            \"content\": f\"Résume cet article en 3 lignes dans un style journalistique :\\n\\n{text}\"\n",
    "        }]\n",
    "    )\n",
    "    return response['choices'][0]['message']['content']\n",
    "\n",
    "def translate_to_arabic(text):\n",
    "    response = openai.ChatCompletion.create(\n",
    "        model=\"gpt-3.5-turbo\",\n",
    "        messages=[{\n",
    "            \"role\": \"user\",\n",
    "            \"content\": f\"Traduis ce texte en arabe littéraire, en gardant le style journalistique :\\n\\n{text}\"\n",
    "        }]\n",
    "    )\n",
    "    return response['choices'][0]['message']['content']"
   ]
  },
  {
   "cell_type": "code",
   "execution_count": null,
   "id": "282669e7",
   "metadata": {},
   "outputs": [],
   "source": [
    "# ✅ SECTION 6: Paste Your Article Text Here\n",
    "article_text = \"\"\"Collez votre article ici...\"\"\""
   ]
  },
  {
   "cell_type": "code",
   "execution_count": null,
   "id": "1ac3bd18",
   "metadata": {},
   "outputs": [],
   "source": [
    "# ✅ SECTION 7: Run Summary + Translation\n",
    "summary = summarize_article(article_text)\n",
    "arabic_translation = translate_to_arabic(summary)"
   ]
  },
  {
   "cell_type": "code",
   "execution_count": null,
   "id": "9194c035",
   "metadata": {},
   "outputs": [],
   "source": [
    "# ✅ SECTION 8: Add Entry to the Table\n",
    "new_row = {\n",
    "    \"Date\": datetime.now().strftime(\"%Y-%m-%d\"),\n",
    "    \"Article\": article_text,\n",
    "    \"Summary_FR\": summary,\n",
    "    \"Translation_AR\": arabic_translation,\n",
    "    \"Topic\": \"À compléter\",  # e.g. Gaza, Diplomatie...\n",
    "}\n",
    "df = pd.concat([df, pd.DataFrame([new_row])], ignore_index=True)"
   ]
  },
  {
   "cell_type": "code",
   "execution_count": null,
   "id": "72fb4202",
   "metadata": {},
   "outputs": [],
   "source": [
    "# ✅ SECTION 9: Save to Google Drive\n",
    "os.makedirs(drive_path, exist_ok=True)\n",
    "df.to_csv(csv_path, index=False)\n",
    "print(f\"✅ Data saved to: {csv_path}\")"
   ]
  }
 ],
 "metadata": {},
 "nbformat": 4,
 "nbformat_minor": 5
}
