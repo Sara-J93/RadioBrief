{
  "nbformat": 4,
  "nbformat_minor": 0,
  "metadata": {
    "colab": {
      "provenance": [],
      "gpuType": "A100"
    },
    "kernelspec": {
      "name": "python3",
      "display_name": "Python 3"
    },
    "language_info": {
      "name": "python"
    },
    "accelerator": "GPU",
    "widgets": {
      "application/vnd.jupyter.widget-state+json": {
        "a001acf867434df5ace7701c4c720488": {
          "model_module": "@jupyter-widgets/controls",
          "model_name": "HBoxModel",
          "model_module_version": "1.5.0",
          "state": {
            "_dom_classes": [],
            "_model_module": "@jupyter-widgets/controls",
            "_model_module_version": "1.5.0",
            "_model_name": "HBoxModel",
            "_view_count": null,
            "_view_module": "@jupyter-widgets/controls",
            "_view_module_version": "1.5.0",
            "_view_name": "HBoxView",
            "box_style": "",
            "children": [
              "IPY_MODEL_ae1a96d358c441caaac14564d3490a79",
              "IPY_MODEL_7f4da0d3132940108f7a710d103a4f63",
              "IPY_MODEL_4edfae9a7cd94e03ac2842945e04568e"
            ],
            "layout": "IPY_MODEL_cc19c49c75534fbb9de0cdca021b1c55"
          }
        },
        "ae1a96d358c441caaac14564d3490a79": {
          "model_module": "@jupyter-widgets/controls",
          "model_name": "HTMLModel",
          "model_module_version": "1.5.0",
          "state": {
            "_dom_classes": [],
            "_model_module": "@jupyter-widgets/controls",
            "_model_module_version": "1.5.0",
            "_model_name": "HTMLModel",
            "_view_count": null,
            "_view_module": "@jupyter-widgets/controls",
            "_view_module_version": "1.5.0",
            "_view_name": "HTMLView",
            "description": "",
            "description_tooltip": null,
            "layout": "IPY_MODEL_33ba10075b03409db854a980c466491b",
            "placeholder": "​",
            "style": "IPY_MODEL_f83dfa84591c4917b26db4bf39110ab6",
            "value": "Map: 100%"
          }
        },
        "7f4da0d3132940108f7a710d103a4f63": {
          "model_module": "@jupyter-widgets/controls",
          "model_name": "FloatProgressModel",
          "model_module_version": "1.5.0",
          "state": {
            "_dom_classes": [],
            "_model_module": "@jupyter-widgets/controls",
            "_model_module_version": "1.5.0",
            "_model_name": "FloatProgressModel",
            "_view_count": null,
            "_view_module": "@jupyter-widgets/controls",
            "_view_module_version": "1.5.0",
            "_view_name": "ProgressView",
            "bar_style": "success",
            "description": "",
            "description_tooltip": null,
            "layout": "IPY_MODEL_75266ca203e344089d4e1fc90d6347a5",
            "max": 211,
            "min": 0,
            "orientation": "horizontal",
            "style": "IPY_MODEL_2334b50856764ca8aa002b6924971513",
            "value": 211
          }
        },
        "4edfae9a7cd94e03ac2842945e04568e": {
          "model_module": "@jupyter-widgets/controls",
          "model_name": "HTMLModel",
          "model_module_version": "1.5.0",
          "state": {
            "_dom_classes": [],
            "_model_module": "@jupyter-widgets/controls",
            "_model_module_version": "1.5.0",
            "_model_name": "HTMLModel",
            "_view_count": null,
            "_view_module": "@jupyter-widgets/controls",
            "_view_module_version": "1.5.0",
            "_view_name": "HTMLView",
            "description": "",
            "description_tooltip": null,
            "layout": "IPY_MODEL_5a21c1400b534bc5a559bf56f0a4eb62",
            "placeholder": "​",
            "style": "IPY_MODEL_9761d26993bc48658de3be6e57039a55",
            "value": " 211/211 [00:00&lt;00:00, 1124.72 examples/s]"
          }
        },
        "cc19c49c75534fbb9de0cdca021b1c55": {
          "model_module": "@jupyter-widgets/base",
          "model_name": "LayoutModel",
          "model_module_version": "1.2.0",
          "state": {
            "_model_module": "@jupyter-widgets/base",
            "_model_module_version": "1.2.0",
            "_model_name": "LayoutModel",
            "_view_count": null,
            "_view_module": "@jupyter-widgets/base",
            "_view_module_version": "1.2.0",
            "_view_name": "LayoutView",
            "align_content": null,
            "align_items": null,
            "align_self": null,
            "border": null,
            "bottom": null,
            "display": null,
            "flex": null,
            "flex_flow": null,
            "grid_area": null,
            "grid_auto_columns": null,
            "grid_auto_flow": null,
            "grid_auto_rows": null,
            "grid_column": null,
            "grid_gap": null,
            "grid_row": null,
            "grid_template_areas": null,
            "grid_template_columns": null,
            "grid_template_rows": null,
            "height": null,
            "justify_content": null,
            "justify_items": null,
            "left": null,
            "margin": null,
            "max_height": null,
            "max_width": null,
            "min_height": null,
            "min_width": null,
            "object_fit": null,
            "object_position": null,
            "order": null,
            "overflow": null,
            "overflow_x": null,
            "overflow_y": null,
            "padding": null,
            "right": null,
            "top": null,
            "visibility": null,
            "width": null
          }
        },
        "33ba10075b03409db854a980c466491b": {
          "model_module": "@jupyter-widgets/base",
          "model_name": "LayoutModel",
          "model_module_version": "1.2.0",
          "state": {
            "_model_module": "@jupyter-widgets/base",
            "_model_module_version": "1.2.0",
            "_model_name": "LayoutModel",
            "_view_count": null,
            "_view_module": "@jupyter-widgets/base",
            "_view_module_version": "1.2.0",
            "_view_name": "LayoutView",
            "align_content": null,
            "align_items": null,
            "align_self": null,
            "border": null,
            "bottom": null,
            "display": null,
            "flex": null,
            "flex_flow": null,
            "grid_area": null,
            "grid_auto_columns": null,
            "grid_auto_flow": null,
            "grid_auto_rows": null,
            "grid_column": null,
            "grid_gap": null,
            "grid_row": null,
            "grid_template_areas": null,
            "grid_template_columns": null,
            "grid_template_rows": null,
            "height": null,
            "justify_content": null,
            "justify_items": null,
            "left": null,
            "margin": null,
            "max_height": null,
            "max_width": null,
            "min_height": null,
            "min_width": null,
            "object_fit": null,
            "object_position": null,
            "order": null,
            "overflow": null,
            "overflow_x": null,
            "overflow_y": null,
            "padding": null,
            "right": null,
            "top": null,
            "visibility": null,
            "width": null
          }
        },
        "f83dfa84591c4917b26db4bf39110ab6": {
          "model_module": "@jupyter-widgets/controls",
          "model_name": "DescriptionStyleModel",
          "model_module_version": "1.5.0",
          "state": {
            "_model_module": "@jupyter-widgets/controls",
            "_model_module_version": "1.5.0",
            "_model_name": "DescriptionStyleModel",
            "_view_count": null,
            "_view_module": "@jupyter-widgets/base",
            "_view_module_version": "1.2.0",
            "_view_name": "StyleView",
            "description_width": ""
          }
        },
        "75266ca203e344089d4e1fc90d6347a5": {
          "model_module": "@jupyter-widgets/base",
          "model_name": "LayoutModel",
          "model_module_version": "1.2.0",
          "state": {
            "_model_module": "@jupyter-widgets/base",
            "_model_module_version": "1.2.0",
            "_model_name": "LayoutModel",
            "_view_count": null,
            "_view_module": "@jupyter-widgets/base",
            "_view_module_version": "1.2.0",
            "_view_name": "LayoutView",
            "align_content": null,
            "align_items": null,
            "align_self": null,
            "border": null,
            "bottom": null,
            "display": null,
            "flex": null,
            "flex_flow": null,
            "grid_area": null,
            "grid_auto_columns": null,
            "grid_auto_flow": null,
            "grid_auto_rows": null,
            "grid_column": null,
            "grid_gap": null,
            "grid_row": null,
            "grid_template_areas": null,
            "grid_template_columns": null,
            "grid_template_rows": null,
            "height": null,
            "justify_content": null,
            "justify_items": null,
            "left": null,
            "margin": null,
            "max_height": null,
            "max_width": null,
            "min_height": null,
            "min_width": null,
            "object_fit": null,
            "object_position": null,
            "order": null,
            "overflow": null,
            "overflow_x": null,
            "overflow_y": null,
            "padding": null,
            "right": null,
            "top": null,
            "visibility": null,
            "width": null
          }
        },
        "2334b50856764ca8aa002b6924971513": {
          "model_module": "@jupyter-widgets/controls",
          "model_name": "ProgressStyleModel",
          "model_module_version": "1.5.0",
          "state": {
            "_model_module": "@jupyter-widgets/controls",
            "_model_module_version": "1.5.0",
            "_model_name": "ProgressStyleModel",
            "_view_count": null,
            "_view_module": "@jupyter-widgets/base",
            "_view_module_version": "1.2.0",
            "_view_name": "StyleView",
            "bar_color": null,
            "description_width": ""
          }
        },
        "5a21c1400b534bc5a559bf56f0a4eb62": {
          "model_module": "@jupyter-widgets/base",
          "model_name": "LayoutModel",
          "model_module_version": "1.2.0",
          "state": {
            "_model_module": "@jupyter-widgets/base",
            "_model_module_version": "1.2.0",
            "_model_name": "LayoutModel",
            "_view_count": null,
            "_view_module": "@jupyter-widgets/base",
            "_view_module_version": "1.2.0",
            "_view_name": "LayoutView",
            "align_content": null,
            "align_items": null,
            "align_self": null,
            "border": null,
            "bottom": null,
            "display": null,
            "flex": null,
            "flex_flow": null,
            "grid_area": null,
            "grid_auto_columns": null,
            "grid_auto_flow": null,
            "grid_auto_rows": null,
            "grid_column": null,
            "grid_gap": null,
            "grid_row": null,
            "grid_template_areas": null,
            "grid_template_columns": null,
            "grid_template_rows": null,
            "height": null,
            "justify_content": null,
            "justify_items": null,
            "left": null,
            "margin": null,
            "max_height": null,
            "max_width": null,
            "min_height": null,
            "min_width": null,
            "object_fit": null,
            "object_position": null,
            "order": null,
            "overflow": null,
            "overflow_x": null,
            "overflow_y": null,
            "padding": null,
            "right": null,
            "top": null,
            "visibility": null,
            "width": null
          }
        },
        "9761d26993bc48658de3be6e57039a55": {
          "model_module": "@jupyter-widgets/controls",
          "model_name": "DescriptionStyleModel",
          "model_module_version": "1.5.0",
          "state": {
            "_model_module": "@jupyter-widgets/controls",
            "_model_module_version": "1.5.0",
            "_model_name": "DescriptionStyleModel",
            "_view_count": null,
            "_view_module": "@jupyter-widgets/base",
            "_view_module_version": "1.2.0",
            "_view_name": "StyleView",
            "description_width": ""
          }
        },
        "a3351260d21e4678bc7c3526a4fd22a0": {
          "model_module": "@jupyter-widgets/controls",
          "model_name": "HBoxModel",
          "model_module_version": "1.5.0",
          "state": {
            "_dom_classes": [],
            "_model_module": "@jupyter-widgets/controls",
            "_model_module_version": "1.5.0",
            "_model_name": "HBoxModel",
            "_view_count": null,
            "_view_module": "@jupyter-widgets/controls",
            "_view_module_version": "1.5.0",
            "_view_name": "HBoxView",
            "box_style": "",
            "children": [
              "IPY_MODEL_20902a340afe4ccd8a50ed975e442da3",
              "IPY_MODEL_c30a69d018724f3f80daaa3b55f234f4",
              "IPY_MODEL_4465d711e5b14bc8aec4b153ef81fa08"
            ],
            "layout": "IPY_MODEL_49dc77c9d79e44928f432dbcf5d67cfb"
          }
        },
        "20902a340afe4ccd8a50ed975e442da3": {
          "model_module": "@jupyter-widgets/controls",
          "model_name": "HTMLModel",
          "model_module_version": "1.5.0",
          "state": {
            "_dom_classes": [],
            "_model_module": "@jupyter-widgets/controls",
            "_model_module_version": "1.5.0",
            "_model_name": "HTMLModel",
            "_view_count": null,
            "_view_module": "@jupyter-widgets/controls",
            "_view_module_version": "1.5.0",
            "_view_name": "HTMLView",
            "description": "",
            "description_tooltip": null,
            "layout": "IPY_MODEL_b4497728d21848e1b5049249bad0b108",
            "placeholder": "​",
            "style": "IPY_MODEL_7b9a4c308a4443e5baeaeab3a2f22c19",
            "value": "model.safetensors: 100%"
          }
        },
        "c30a69d018724f3f80daaa3b55f234f4": {
          "model_module": "@jupyter-widgets/controls",
          "model_name": "FloatProgressModel",
          "model_module_version": "1.5.0",
          "state": {
            "_dom_classes": [],
            "_model_module": "@jupyter-widgets/controls",
            "_model_module_version": "1.5.0",
            "_model_name": "FloatProgressModel",
            "_view_count": null,
            "_view_module": "@jupyter-widgets/controls",
            "_view_module_version": "1.5.0",
            "_view_name": "ProgressView",
            "bar_style": "success",
            "description": "",
            "description_tooltip": null,
            "layout": "IPY_MODEL_7aa3844617334a8b92dd057cb525a90e",
            "max": 445008750,
            "min": 0,
            "orientation": "horizontal",
            "style": "IPY_MODEL_1b7edc1960fa40c1ba94ed2f214c0c9f",
            "value": 445008750
          }
        },
        "4465d711e5b14bc8aec4b153ef81fa08": {
          "model_module": "@jupyter-widgets/controls",
          "model_name": "HTMLModel",
          "model_module_version": "1.5.0",
          "state": {
            "_dom_classes": [],
            "_model_module": "@jupyter-widgets/controls",
            "_model_module_version": "1.5.0",
            "_model_name": "HTMLModel",
            "_view_count": null,
            "_view_module": "@jupyter-widgets/controls",
            "_view_module_version": "1.5.0",
            "_view_name": "HTMLView",
            "description": "",
            "description_tooltip": null,
            "layout": "IPY_MODEL_dfd045fb112f48e5b3bd07592f4a0b16",
            "placeholder": "​",
            "style": "IPY_MODEL_35e3bf06a270498d95e0c7ed1073f3b2",
            "value": " 445M/445M [00:00&lt;00:00, 442MB/s]"
          }
        },
        "49dc77c9d79e44928f432dbcf5d67cfb": {
          "model_module": "@jupyter-widgets/base",
          "model_name": "LayoutModel",
          "model_module_version": "1.2.0",
          "state": {
            "_model_module": "@jupyter-widgets/base",
            "_model_module_version": "1.2.0",
            "_model_name": "LayoutModel",
            "_view_count": null,
            "_view_module": "@jupyter-widgets/base",
            "_view_module_version": "1.2.0",
            "_view_name": "LayoutView",
            "align_content": null,
            "align_items": null,
            "align_self": null,
            "border": null,
            "bottom": null,
            "display": null,
            "flex": null,
            "flex_flow": null,
            "grid_area": null,
            "grid_auto_columns": null,
            "grid_auto_flow": null,
            "grid_auto_rows": null,
            "grid_column": null,
            "grid_gap": null,
            "grid_row": null,
            "grid_template_areas": null,
            "grid_template_columns": null,
            "grid_template_rows": null,
            "height": null,
            "justify_content": null,
            "justify_items": null,
            "left": null,
            "margin": null,
            "max_height": null,
            "max_width": null,
            "min_height": null,
            "min_width": null,
            "object_fit": null,
            "object_position": null,
            "order": null,
            "overflow": null,
            "overflow_x": null,
            "overflow_y": null,
            "padding": null,
            "right": null,
            "top": null,
            "visibility": null,
            "width": null
          }
        },
        "b4497728d21848e1b5049249bad0b108": {
          "model_module": "@jupyter-widgets/base",
          "model_name": "LayoutModel",
          "model_module_version": "1.2.0",
          "state": {
            "_model_module": "@jupyter-widgets/base",
            "_model_module_version": "1.2.0",
            "_model_name": "LayoutModel",
            "_view_count": null,
            "_view_module": "@jupyter-widgets/base",
            "_view_module_version": "1.2.0",
            "_view_name": "LayoutView",
            "align_content": null,
            "align_items": null,
            "align_self": null,
            "border": null,
            "bottom": null,
            "display": null,
            "flex": null,
            "flex_flow": null,
            "grid_area": null,
            "grid_auto_columns": null,
            "grid_auto_flow": null,
            "grid_auto_rows": null,
            "grid_column": null,
            "grid_gap": null,
            "grid_row": null,
            "grid_template_areas": null,
            "grid_template_columns": null,
            "grid_template_rows": null,
            "height": null,
            "justify_content": null,
            "justify_items": null,
            "left": null,
            "margin": null,
            "max_height": null,
            "max_width": null,
            "min_height": null,
            "min_width": null,
            "object_fit": null,
            "object_position": null,
            "order": null,
            "overflow": null,
            "overflow_x": null,
            "overflow_y": null,
            "padding": null,
            "right": null,
            "top": null,
            "visibility": null,
            "width": null
          }
        },
        "7b9a4c308a4443e5baeaeab3a2f22c19": {
          "model_module": "@jupyter-widgets/controls",
          "model_name": "DescriptionStyleModel",
          "model_module_version": "1.5.0",
          "state": {
            "_model_module": "@jupyter-widgets/controls",
            "_model_module_version": "1.5.0",
            "_model_name": "DescriptionStyleModel",
            "_view_count": null,
            "_view_module": "@jupyter-widgets/base",
            "_view_module_version": "1.2.0",
            "_view_name": "StyleView",
            "description_width": ""
          }
        },
        "7aa3844617334a8b92dd057cb525a90e": {
          "model_module": "@jupyter-widgets/base",
          "model_name": "LayoutModel",
          "model_module_version": "1.2.0",
          "state": {
            "_model_module": "@jupyter-widgets/base",
            "_model_module_version": "1.2.0",
            "_model_name": "LayoutModel",
            "_view_count": null,
            "_view_module": "@jupyter-widgets/base",
            "_view_module_version": "1.2.0",
            "_view_name": "LayoutView",
            "align_content": null,
            "align_items": null,
            "align_self": null,
            "border": null,
            "bottom": null,
            "display": null,
            "flex": null,
            "flex_flow": null,
            "grid_area": null,
            "grid_auto_columns": null,
            "grid_auto_flow": null,
            "grid_auto_rows": null,
            "grid_column": null,
            "grid_gap": null,
            "grid_row": null,
            "grid_template_areas": null,
            "grid_template_columns": null,
            "grid_template_rows": null,
            "height": null,
            "justify_content": null,
            "justify_items": null,
            "left": null,
            "margin": null,
            "max_height": null,
            "max_width": null,
            "min_height": null,
            "min_width": null,
            "object_fit": null,
            "object_position": null,
            "order": null,
            "overflow": null,
            "overflow_x": null,
            "overflow_y": null,
            "padding": null,
            "right": null,
            "top": null,
            "visibility": null,
            "width": null
          }
        },
        "1b7edc1960fa40c1ba94ed2f214c0c9f": {
          "model_module": "@jupyter-widgets/controls",
          "model_name": "ProgressStyleModel",
          "model_module_version": "1.5.0",
          "state": {
            "_model_module": "@jupyter-widgets/controls",
            "_model_module_version": "1.5.0",
            "_model_name": "ProgressStyleModel",
            "_view_count": null,
            "_view_module": "@jupyter-widgets/base",
            "_view_module_version": "1.2.0",
            "_view_name": "StyleView",
            "bar_color": null,
            "description_width": ""
          }
        },
        "dfd045fb112f48e5b3bd07592f4a0b16": {
          "model_module": "@jupyter-widgets/base",
          "model_name": "LayoutModel",
          "model_module_version": "1.2.0",
          "state": {
            "_model_module": "@jupyter-widgets/base",
            "_model_module_version": "1.2.0",
            "_model_name": "LayoutModel",
            "_view_count": null,
            "_view_module": "@jupyter-widgets/base",
            "_view_module_version": "1.2.0",
            "_view_name": "LayoutView",
            "align_content": null,
            "align_items": null,
            "align_self": null,
            "border": null,
            "bottom": null,
            "display": null,
            "flex": null,
            "flex_flow": null,
            "grid_area": null,
            "grid_auto_columns": null,
            "grid_auto_flow": null,
            "grid_auto_rows": null,
            "grid_column": null,
            "grid_gap": null,
            "grid_row": null,
            "grid_template_areas": null,
            "grid_template_columns": null,
            "grid_template_rows": null,
            "height": null,
            "justify_content": null,
            "justify_items": null,
            "left": null,
            "margin": null,
            "max_height": null,
            "max_width": null,
            "min_height": null,
            "min_width": null,
            "object_fit": null,
            "object_position": null,
            "order": null,
            "overflow": null,
            "overflow_x": null,
            "overflow_y": null,
            "padding": null,
            "right": null,
            "top": null,
            "visibility": null,
            "width": null
          }
        },
        "35e3bf06a270498d95e0c7ed1073f3b2": {
          "model_module": "@jupyter-widgets/controls",
          "model_name": "DescriptionStyleModel",
          "model_module_version": "1.5.0",
          "state": {
            "_model_module": "@jupyter-widgets/controls",
            "_model_module_version": "1.5.0",
            "_model_name": "DescriptionStyleModel",
            "_view_count": null,
            "_view_module": "@jupyter-widgets/base",
            "_view_module_version": "1.2.0",
            "_view_name": "StyleView",
            "description_width": ""
          }
        },
        "c512b49a21474cefb325e8dea6729c49": {
          "model_module": "@jupyter-widgets/controls",
          "model_name": "HBoxModel",
          "model_module_version": "1.5.0",
          "state": {
            "_dom_classes": [],
            "_model_module": "@jupyter-widgets/controls",
            "_model_module_version": "1.5.0",
            "_model_name": "HBoxModel",
            "_view_count": null,
            "_view_module": "@jupyter-widgets/controls",
            "_view_module_version": "1.5.0",
            "_view_name": "HBoxView",
            "box_style": "",
            "children": [
              "IPY_MODEL_c411d6e07e5f4111aab2e12b0d4d9017",
              "IPY_MODEL_60cea6865ceb47d49d006c946192297c",
              "IPY_MODEL_b5ae83c04f254fb2b0627a755440b754"
            ],
            "layout": "IPY_MODEL_65c3cfa1261840cb81db50af12cd7663"
          }
        },
        "c411d6e07e5f4111aab2e12b0d4d9017": {
          "model_module": "@jupyter-widgets/controls",
          "model_name": "HTMLModel",
          "model_module_version": "1.5.0",
          "state": {
            "_dom_classes": [],
            "_model_module": "@jupyter-widgets/controls",
            "_model_module_version": "1.5.0",
            "_model_name": "HTMLModel",
            "_view_count": null,
            "_view_module": "@jupyter-widgets/controls",
            "_view_module_version": "1.5.0",
            "_view_name": "HTMLView",
            "description": "",
            "description_tooltip": null,
            "layout": "IPY_MODEL_ed857ac42acb4bdc96dc2aa7c816e240",
            "placeholder": "​",
            "style": "IPY_MODEL_0918c23d015f4dac985bd227025aa9dc",
            "value": "Downloading builder script: 100%"
          }
        },
        "60cea6865ceb47d49d006c946192297c": {
          "model_module": "@jupyter-widgets/controls",
          "model_name": "FloatProgressModel",
          "model_module_version": "1.5.0",
          "state": {
            "_dom_classes": [],
            "_model_module": "@jupyter-widgets/controls",
            "_model_module_version": "1.5.0",
            "_model_name": "FloatProgressModel",
            "_view_count": null,
            "_view_module": "@jupyter-widgets/controls",
            "_view_module_version": "1.5.0",
            "_view_name": "ProgressView",
            "bar_style": "success",
            "description": "",
            "description_tooltip": null,
            "layout": "IPY_MODEL_79e5776fd67d4efcb16f368923765987",
            "max": 4203,
            "min": 0,
            "orientation": "horizontal",
            "style": "IPY_MODEL_af530b659a5648b79e7a56043b8071eb",
            "value": 4203
          }
        },
        "b5ae83c04f254fb2b0627a755440b754": {
          "model_module": "@jupyter-widgets/controls",
          "model_name": "HTMLModel",
          "model_module_version": "1.5.0",
          "state": {
            "_dom_classes": [],
            "_model_module": "@jupyter-widgets/controls",
            "_model_module_version": "1.5.0",
            "_model_name": "HTMLModel",
            "_view_count": null,
            "_view_module": "@jupyter-widgets/controls",
            "_view_module_version": "1.5.0",
            "_view_name": "HTMLView",
            "description": "",
            "description_tooltip": null,
            "layout": "IPY_MODEL_1e271d2bec34459fabe9c0002069d097",
            "placeholder": "​",
            "style": "IPY_MODEL_e53f72c11a474f25bae7e26f3aafbc17",
            "value": " 4.20k/4.20k [00:00&lt;00:00, 517kB/s]"
          }
        },
        "65c3cfa1261840cb81db50af12cd7663": {
          "model_module": "@jupyter-widgets/base",
          "model_name": "LayoutModel",
          "model_module_version": "1.2.0",
          "state": {
            "_model_module": "@jupyter-widgets/base",
            "_model_module_version": "1.2.0",
            "_model_name": "LayoutModel",
            "_view_count": null,
            "_view_module": "@jupyter-widgets/base",
            "_view_module_version": "1.2.0",
            "_view_name": "LayoutView",
            "align_content": null,
            "align_items": null,
            "align_self": null,
            "border": null,
            "bottom": null,
            "display": null,
            "flex": null,
            "flex_flow": null,
            "grid_area": null,
            "grid_auto_columns": null,
            "grid_auto_flow": null,
            "grid_auto_rows": null,
            "grid_column": null,
            "grid_gap": null,
            "grid_row": null,
            "grid_template_areas": null,
            "grid_template_columns": null,
            "grid_template_rows": null,
            "height": null,
            "justify_content": null,
            "justify_items": null,
            "left": null,
            "margin": null,
            "max_height": null,
            "max_width": null,
            "min_height": null,
            "min_width": null,
            "object_fit": null,
            "object_position": null,
            "order": null,
            "overflow": null,
            "overflow_x": null,
            "overflow_y": null,
            "padding": null,
            "right": null,
            "top": null,
            "visibility": null,
            "width": null
          }
        },
        "ed857ac42acb4bdc96dc2aa7c816e240": {
          "model_module": "@jupyter-widgets/base",
          "model_name": "LayoutModel",
          "model_module_version": "1.2.0",
          "state": {
            "_model_module": "@jupyter-widgets/base",
            "_model_module_version": "1.2.0",
            "_model_name": "LayoutModel",
            "_view_count": null,
            "_view_module": "@jupyter-widgets/base",
            "_view_module_version": "1.2.0",
            "_view_name": "LayoutView",
            "align_content": null,
            "align_items": null,
            "align_self": null,
            "border": null,
            "bottom": null,
            "display": null,
            "flex": null,
            "flex_flow": null,
            "grid_area": null,
            "grid_auto_columns": null,
            "grid_auto_flow": null,
            "grid_auto_rows": null,
            "grid_column": null,
            "grid_gap": null,
            "grid_row": null,
            "grid_template_areas": null,
            "grid_template_columns": null,
            "grid_template_rows": null,
            "height": null,
            "justify_content": null,
            "justify_items": null,
            "left": null,
            "margin": null,
            "max_height": null,
            "max_width": null,
            "min_height": null,
            "min_width": null,
            "object_fit": null,
            "object_position": null,
            "order": null,
            "overflow": null,
            "overflow_x": null,
            "overflow_y": null,
            "padding": null,
            "right": null,
            "top": null,
            "visibility": null,
            "width": null
          }
        },
        "0918c23d015f4dac985bd227025aa9dc": {
          "model_module": "@jupyter-widgets/controls",
          "model_name": "DescriptionStyleModel",
          "model_module_version": "1.5.0",
          "state": {
            "_model_module": "@jupyter-widgets/controls",
            "_model_module_version": "1.5.0",
            "_model_name": "DescriptionStyleModel",
            "_view_count": null,
            "_view_module": "@jupyter-widgets/base",
            "_view_module_version": "1.2.0",
            "_view_name": "StyleView",
            "description_width": ""
          }
        },
        "79e5776fd67d4efcb16f368923765987": {
          "model_module": "@jupyter-widgets/base",
          "model_name": "LayoutModel",
          "model_module_version": "1.2.0",
          "state": {
            "_model_module": "@jupyter-widgets/base",
            "_model_module_version": "1.2.0",
            "_model_name": "LayoutModel",
            "_view_count": null,
            "_view_module": "@jupyter-widgets/base",
            "_view_module_version": "1.2.0",
            "_view_name": "LayoutView",
            "align_content": null,
            "align_items": null,
            "align_self": null,
            "border": null,
            "bottom": null,
            "display": null,
            "flex": null,
            "flex_flow": null,
            "grid_area": null,
            "grid_auto_columns": null,
            "grid_auto_flow": null,
            "grid_auto_rows": null,
            "grid_column": null,
            "grid_gap": null,
            "grid_row": null,
            "grid_template_areas": null,
            "grid_template_columns": null,
            "grid_template_rows": null,
            "height": null,
            "justify_content": null,
            "justify_items": null,
            "left": null,
            "margin": null,
            "max_height": null,
            "max_width": null,
            "min_height": null,
            "min_width": null,
            "object_fit": null,
            "object_position": null,
            "order": null,
            "overflow": null,
            "overflow_x": null,
            "overflow_y": null,
            "padding": null,
            "right": null,
            "top": null,
            "visibility": null,
            "width": null
          }
        },
        "af530b659a5648b79e7a56043b8071eb": {
          "model_module": "@jupyter-widgets/controls",
          "model_name": "ProgressStyleModel",
          "model_module_version": "1.5.0",
          "state": {
            "_model_module": "@jupyter-widgets/controls",
            "_model_module_version": "1.5.0",
            "_model_name": "ProgressStyleModel",
            "_view_count": null,
            "_view_module": "@jupyter-widgets/base",
            "_view_module_version": "1.2.0",
            "_view_name": "StyleView",
            "bar_color": null,
            "description_width": ""
          }
        },
        "1e271d2bec34459fabe9c0002069d097": {
          "model_module": "@jupyter-widgets/base",
          "model_name": "LayoutModel",
          "model_module_version": "1.2.0",
          "state": {
            "_model_module": "@jupyter-widgets/base",
            "_model_module_version": "1.2.0",
            "_model_name": "LayoutModel",
            "_view_count": null,
            "_view_module": "@jupyter-widgets/base",
            "_view_module_version": "1.2.0",
            "_view_name": "LayoutView",
            "align_content": null,
            "align_items": null,
            "align_self": null,
            "border": null,
            "bottom": null,
            "display": null,
            "flex": null,
            "flex_flow": null,
            "grid_area": null,
            "grid_auto_columns": null,
            "grid_auto_flow": null,
            "grid_auto_rows": null,
            "grid_column": null,
            "grid_gap": null,
            "grid_row": null,
            "grid_template_areas": null,
            "grid_template_columns": null,
            "grid_template_rows": null,
            "height": null,
            "justify_content": null,
            "justify_items": null,
            "left": null,
            "margin": null,
            "max_height": null,
            "max_width": null,
            "min_height": null,
            "min_width": null,
            "object_fit": null,
            "object_position": null,
            "order": null,
            "overflow": null,
            "overflow_x": null,
            "overflow_y": null,
            "padding": null,
            "right": null,
            "top": null,
            "visibility": null,
            "width": null
          }
        },
        "e53f72c11a474f25bae7e26f3aafbc17": {
          "model_module": "@jupyter-widgets/controls",
          "model_name": "DescriptionStyleModel",
          "model_module_version": "1.5.0",
          "state": {
            "_model_module": "@jupyter-widgets/controls",
            "_model_module_version": "1.5.0",
            "_model_name": "DescriptionStyleModel",
            "_view_count": null,
            "_view_module": "@jupyter-widgets/base",
            "_view_module_version": "1.2.0",
            "_view_name": "StyleView",
            "description_width": ""
          }
        }
      }
    }
  },
  "cells": [
    {
      "cell_type": "code",
      "execution_count": null,
      "metadata": {
        "colab": {
          "base_uri": "https://localhost:8080/"
        },
        "id": "rJqrjd3a652i",
        "outputId": "bfd670ea-db67-4ad4-e038-a9833c06726a"
      },
      "outputs": [
        {
          "output_type": "stream",
          "name": "stdout",
          "text": [
            "Installing necessary libraries...\n",
            "\u001b[2K   \u001b[90m━━━━━━━━━━━━━━━━━━━━━━━━━━━━━━━━━━━━━━━━\u001b[0m \u001b[32m491.2/491.2 kB\u001b[0m \u001b[31m29.4 MB/s\u001b[0m eta \u001b[36m0:00:00\u001b[0m\n",
            "\u001b[2K   \u001b[90m━━━━━━━━━━━━━━━━━━━━━━━━━━━━━━━━━━━━━━━━\u001b[0m \u001b[32m84.0/84.0 kB\u001b[0m \u001b[31m8.1 MB/s\u001b[0m eta \u001b[36m0:00:00\u001b[0m\n",
            "\u001b[2K   \u001b[90m━━━━━━━━━━━━━━━━━━━━━━━━━━━━━━━━━━━━━━━━\u001b[0m \u001b[32m116.3/116.3 kB\u001b[0m \u001b[31m10.5 MB/s\u001b[0m eta \u001b[36m0:00:00\u001b[0m\n",
            "\u001b[2K   \u001b[90m━━━━━━━━━━━━━━━━━━━━━━━━━━━━━━━━━━━━━━━━\u001b[0m \u001b[32m183.9/183.9 kB\u001b[0m \u001b[31m17.1 MB/s\u001b[0m eta \u001b[36m0:00:00\u001b[0m\n",
            "\u001b[2K   \u001b[90m━━━━━━━━━━━━━━━━━━━━━━━━━━━━━━━━━━━━━━━━\u001b[0m \u001b[32m143.5/143.5 kB\u001b[0m \u001b[31m14.8 MB/s\u001b[0m eta \u001b[36m0:00:00\u001b[0m\n",
            "\u001b[2K   \u001b[90m━━━━━━━━━━━━━━━━━━━━━━━━━━━━━━━━━━━━━━━━\u001b[0m \u001b[32m363.4/363.4 MB\u001b[0m \u001b[31m2.5 MB/s\u001b[0m eta \u001b[36m0:00:00\u001b[0m\n",
            "\u001b[2K   \u001b[90m━━━━━━━━━━━━━━━━━━━━━━━━━━━━━━━━━━━━━━━━\u001b[0m \u001b[32m13.8/13.8 MB\u001b[0m \u001b[31m74.1 MB/s\u001b[0m eta \u001b[36m0:00:00\u001b[0m\n",
            "\u001b[2K   \u001b[90m━━━━━━━━━━━━━━━━━━━━━━━━━━━━━━━━━━━━━━━━\u001b[0m \u001b[32m24.6/24.6 MB\u001b[0m \u001b[31m100.7 MB/s\u001b[0m eta \u001b[36m0:00:00\u001b[0m\n",
            "\u001b[2K   \u001b[90m━━━━━━━━━━━━━━━━━━━━━━━━━━━━━━━━━━━━━━━━\u001b[0m \u001b[32m883.7/883.7 kB\u001b[0m \u001b[31m59.6 MB/s\u001b[0m eta \u001b[36m0:00:00\u001b[0m\n",
            "\u001b[2K   \u001b[90m━━━━━━━━━━━━━━━━━━━━━━━━━━━━━━━━━━━━━━━━\u001b[0m \u001b[32m664.8/664.8 MB\u001b[0m \u001b[31m1.4 MB/s\u001b[0m eta \u001b[36m0:00:00\u001b[0m\n",
            "\u001b[2K   \u001b[90m━━━━━━━━━━━━━━━━━━━━━━━━━━━━━━━━━━━━━━━━\u001b[0m \u001b[32m211.5/211.5 MB\u001b[0m \u001b[31m10.4 MB/s\u001b[0m eta \u001b[36m0:00:00\u001b[0m\n",
            "\u001b[2K   \u001b[90m━━━━━━━━━━━━━━━━━━━━━━━━━━━━━━━━━━━━━━━━\u001b[0m \u001b[32m56.3/56.3 MB\u001b[0m \u001b[31m39.7 MB/s\u001b[0m eta \u001b[36m0:00:00\u001b[0m\n",
            "\u001b[2K   \u001b[90m━━━━━━━━━━━━━━━━━━━━━━━━━━━━━━━━━━━━━━━━\u001b[0m \u001b[32m127.9/127.9 MB\u001b[0m \u001b[31m6.6 MB/s\u001b[0m eta \u001b[36m0:00:00\u001b[0m\n",
            "\u001b[2K   \u001b[90m━━━━━━━━━━━━━━━━━━━━━━━━━━━━━━━━━━━━━━━━\u001b[0m \u001b[32m207.5/207.5 MB\u001b[0m \u001b[31m10.6 MB/s\u001b[0m eta \u001b[36m0:00:00\u001b[0m\n",
            "\u001b[2K   \u001b[90m━━━━━━━━━━━━━━━━━━━━━━━━━━━━━━━━━━━━━━━━\u001b[0m \u001b[32m21.1/21.1 MB\u001b[0m \u001b[31m79.0 MB/s\u001b[0m eta \u001b[36m0:00:00\u001b[0m\n",
            "\u001b[2K   \u001b[90m━━━━━━━━━━━━━━━━━━━━━━━━━━━━━━━━━━━━━━━━\u001b[0m \u001b[32m194.8/194.8 kB\u001b[0m \u001b[31m17.0 MB/s\u001b[0m eta \u001b[36m0:00:00\u001b[0m\n",
            "\u001b[?25h\u001b[31mERROR: pip's dependency resolver does not currently take into account all the packages that are installed. This behaviour is the source of the following dependency conflicts.\n",
            "gcsfs 2025.3.2 requires fsspec==2025.3.2, but you have fsspec 2024.12.0 which is incompatible.\u001b[0m\u001b[31m\n",
            "\u001b[0mInstallation complete. IMPORTANT: Restart the runtime now!\n",
            "Go to 'Runtime' > 'Restart runtime' in the menu above.\n"
          ]
        }
      ],
      "source": [
        "# Cell 1: Installing Libraries\n",
        "print(\"Installing necessary libraries...\")\n",
        "!pip install transformers[torch] datasets pandas scikit-learn evaluate accelerate -q\n",
        "# Using -q for quieter installation\n",
        "\n",
        "print(\"Installation complete. IMPORTANT: Restart the runtime now!\")\n",
        "print(\"Go to 'Runtime' > 'Restart runtime' in the menu above.\")"
      ]
    },
    {
      "cell_type": "code",
      "source": [
        "# Cell 1.1 (Optional): Installing Matplotlib for plotting\n",
        "print(\"Installing matplotlib...\")\n",
        "!pip install matplotlib seaborn -q\n",
        "print(\"Matplotlib installed.\")"
      ],
      "metadata": {
        "colab": {
          "base_uri": "https://localhost:8080/"
        },
        "id": "l6ZbXfi4_eG6",
        "outputId": "c013807d-0b54-4b62-9282-1e92eb67bae7"
      },
      "execution_count": null,
      "outputs": [
        {
          "output_type": "stream",
          "name": "stdout",
          "text": [
            "Installing matplotlib...\n",
            "Matplotlib installed.\n"
          ]
        }
      ]
    },
    {
      "cell_type": "code",
      "source": [
        "# Cell 2: Mounting Google Drive\n",
        "from google.colab import drive\n",
        "drive.mount('/content/drive')\n",
        "\n",
        "print(\"Google Drive mounted.\")"
      ],
      "metadata": {
        "colab": {
          "base_uri": "https://localhost:8080/"
        },
        "id": "lB6mVdPHB2Fn",
        "outputId": "e5031d13-a08a-41c5-a917-71225655fe54"
      },
      "execution_count": null,
      "outputs": [
        {
          "output_type": "stream",
          "name": "stdout",
          "text": [
            "Drive already mounted at /content/drive; to attempt to forcibly remount, call drive.mount(\"/content/drive\", force_remount=True).\n",
            "Google Drive mounted.\n"
          ]
        }
      ]
    },
    {
      "cell_type": "code",
      "source": [
        "# # Cell 3: Loading Data from specific CSV\n",
        "# import pandas as pd\n",
        "# import os\n",
        "\n",
        "# # --- MODIFIED ---\n",
        "# # Path to the SPECIFIC timestamped CSV file from your successful run\n",
        "# csv_path = '/content/drive/MyDrive/RadioBrief/radio_summaries_20250422_112711.csv'\n",
        "# # --- END MODIFIED ---\n",
        "\n",
        "# if os.path.exists(csv_path):\n",
        "#     print(f\"Loading data from {csv_path}...\")\n",
        "#     try:\n",
        "#         # Try reading with standard UTF-8, add fallbacks if needed\n",
        "#         df = pd.read_csv(csv_path)\n",
        "#         print(f\"Loaded {len(df)} rows initially.\")\n",
        "#     except Exception as e:\n",
        "#         print(f\"Error loading CSV: {e}\")\n",
        "#         df = pd.DataFrame() # Create empty df if loading fails\n",
        "# else:\n",
        "#     print(f\"Error: CSV file not found at {csv_path}\")\n",
        "#     df = pd.DataFrame() # Create empty df if file not found\n",
        "\n",
        "# # Display first few rows and columns\n",
        "# if not df.empty:\n",
        "#     print(\"Data loaded successfully. Columns:\", df.columns.tolist())\n",
        "#     print(\"\\nFirst 5 rows:\")\n",
        "#     print(df.head())"
      ],
      "metadata": {
        "id": "nYfz53JHB25W"
      },
      "execution_count": null,
      "outputs": []
    },
    {
      "cell_type": "code",
      "source": [
        "# Cell 3: Loading MasakhaNEWS French data\n",
        "from datasets import load_dataset, DatasetDict\n",
        "import pandas as pd\n",
        "\n",
        "print(\"Loading MasakhaNEWS dataset (French configuration)...\")\n",
        "try:\n",
        "    # Load specific configuration 'fra' for French\n",
        "    masakhanews_dataset = load_dataset(\"masakhane/masakhanews\", \"fra\")\n",
        "    print(\"Dataset loaded successfully:\")\n",
        "    print(masakhanews_dataset)\n",
        "\n",
        "    # Convert to pandas DataFrames IF NEEDED for your Cell 4 code\n",
        "    # Note: You might adapt Cell 4 to work directly with Hugging Face Datasets\n",
        "    # train_df = masakhanews_dataset['train'].to_pandas()\n",
        "    # eval_df = masakhanews_dataset['validation'].to_pandas()\n",
        "    # test_df = masakhanews_dataset['test'].to_pandas() # It also has a test set\n",
        "\n",
        "    # IMPORTANT: You would need to inspect the columns (likely 'text' and 'label')\n",
        "    # and adapt Cell 4 significantly to handle its structure and labels.\n",
        "    # For example, the label column will already contain integer IDs,\n",
        "    # you would need to get the mapping from dataset.features['label'].names\n",
        "\n",
        "except Exception as e:\n",
        "    print(f\"Error loading MasakhaNEWS dataset: {e}\")\n",
        "    masakhanews_dataset = None"
      ],
      "metadata": {
        "colab": {
          "base_uri": "https://localhost:8080/"
        },
        "id": "LVDYpeK0sgc3",
        "outputId": "f61cf6e4-564f-450f-e665-40e495436952"
      },
      "execution_count": null,
      "outputs": [
        {
          "output_type": "stream",
          "name": "stdout",
          "text": [
            "Loading MasakhaNEWS dataset (French configuration)...\n",
            "Dataset loaded successfully:\n",
            "DatasetDict({\n",
            "    train: Dataset({\n",
            "        features: ['label', 'headline', 'text', 'headline_text', 'url'],\n",
            "        num_rows: 1476\n",
            "    })\n",
            "    validation: Dataset({\n",
            "        features: ['label', 'headline', 'text', 'headline_text', 'url'],\n",
            "        num_rows: 211\n",
            "    })\n",
            "    test: Dataset({\n",
            "        features: ['label', 'headline', 'text', 'headline_text', 'url'],\n",
            "        num_rows: 422\n",
            "    })\n",
            "})\n"
          ]
        }
      ]
    },
    {
      "cell_type": "code",
      "source": [
        "# Cell 3.1: Displaying Head of Training Data (using Pandas)\n",
        "import pandas as pd\n",
        "\n",
        "if 'masakhanews_dataset' in locals():\n",
        "    print(\"Converting train split to Pandas DataFrame to show head()...\")\n",
        "    # Convert only the train split for a quick preview\n",
        "    train_df_preview = masakhanews_dataset['train'].to_pandas()\n",
        "    print(\"\\nFirst 5 rows of loaded training data:\")\n",
        "    print(train_df_preview.head().to_markdown(index=False)) # Display as Markdown table\n",
        "    # Clean up temporary DataFrame if needed\n",
        "    del train_df_preview\n",
        "else:\n",
        "    print(\"Dataset not loaded.\")"
      ],
      "metadata": {
        "colab": {
          "base_uri": "https://localhost:8080/"
        },
        "id": "gR5JUy0A_Wlf",
        "outputId": "3ee614c2-bab0-4228-b375-a156850223c3"
      },
      "execution_count": null,
      "outputs": [
        {
          "output_type": "stream",
          "name": "stdout",
          "text": [
            "Converting train split to Pandas DataFrame to show head()...\n",
            "\n",
            "First 5 rows of loaded training data:\n",
            "|   label | headline                                                                                                              | text                                                                                                                                                                                                                                                                                                                                                                                                                                                                                                                                                                                                                                                                                                                                                                                                                                                                                                                                                                                                                                                                                                                                                                                                                                                                                                                                                                                                                                                                                                                                                                                                                                                                                                                                                                                                                                                                                                                                                                                                                                                                                                                                                                                                                                                                                                                                                                                                                                                                                                                                                                                                                                                                                                                                                                                                                                                                                                                                                                                                                                                                                                                                                                                                                                                                                                                                                                                                                                                                                                                                                                                                                                                                                                                                                                                                                                                                                                                                                                                                                                                                                                                                                                                                                                                                                                                                                                                                                                                                                                                                                                                                                                                                                                                                                                                                                                                                                                                                                                                                                                                                                                                                                                                                          | headline_text                                                                                                                                                                                                                                                                                                                                                                                                                                                                                                                                                                                                                                                                                                                                                                                                                                                                                                                                                                                                                                                                                                                                                                                                                                                                                                                                                                                                                                                                                                                                                                                                                                                                                                                                                                                                                                                                                                                                                                                                                                                                                                                                                                                                                                                                                                                                                                                                                                                                                                                                                                                                                                                                                                                                                                                                                                                                                                                                                                                                                                                                                                                                                                                                                                                                                                                                                                                                                                                                                                                                                                                                                                                                                                                                                                                                                                                                                                                                                                                                                                                                                                                                                                                                                                                                                                                                                                                                                                                                                                                                                                                                                                                                                                                                                                                                                                                                                                                                                                                                                                                                                                                                                                                                                                                                                                    | url                                               |\n",
            "|--------:|:----------------------------------------------------------------------------------------------------------------------|:--------------------------------------------------------------------------------------------------------------------------------------------------------------------------------------------------------------------------------------------------------------------------------------------------------------------------------------------------------------------------------------------------------------------------------------------------------------------------------------------------------------------------------------------------------------------------------------------------------------------------------------------------------------------------------------------------------------------------------------------------------------------------------------------------------------------------------------------------------------------------------------------------------------------------------------------------------------------------------------------------------------------------------------------------------------------------------------------------------------------------------------------------------------------------------------------------------------------------------------------------------------------------------------------------------------------------------------------------------------------------------------------------------------------------------------------------------------------------------------------------------------------------------------------------------------------------------------------------------------------------------------------------------------------------------------------------------------------------------------------------------------------------------------------------------------------------------------------------------------------------------------------------------------------------------------------------------------------------------------------------------------------------------------------------------------------------------------------------------------------------------------------------------------------------------------------------------------------------------------------------------------------------------------------------------------------------------------------------------------------------------------------------------------------------------------------------------------------------------------------------------------------------------------------------------------------------------------------------------------------------------------------------------------------------------------------------------------------------------------------------------------------------------------------------------------------------------------------------------------------------------------------------------------------------------------------------------------------------------------------------------------------------------------------------------------------------------------------------------------------------------------------------------------------------------------------------------------------------------------------------------------------------------------------------------------------------------------------------------------------------------------------------------------------------------------------------------------------------------------------------------------------------------------------------------------------------------------------------------------------------------------------------------------------------------------------------------------------------------------------------------------------------------------------------------------------------------------------------------------------------------------------------------------------------------------------------------------------------------------------------------------------------------------------------------------------------------------------------------------------------------------------------------------------------------------------------------------------------------------------------------------------------------------------------------------------------------------------------------------------------------------------------------------------------------------------------------------------------------------------------------------------------------------------------------------------------------------------------------------------------------------------------------------------------------------------------------------------------------------------------------------------------------------------------------------------------------------------------------------------------------------------------------------------------------------------------------------------------------------------------------------------------------------------------------------------------------------------------------------------------------------------------------------------------------------------------------------|:-----------------------------------------------------------------------------------------------------------------------------------------------------------------------------------------------------------------------------------------------------------------------------------------------------------------------------------------------------------------------------------------------------------------------------------------------------------------------------------------------------------------------------------------------------------------------------------------------------------------------------------------------------------------------------------------------------------------------------------------------------------------------------------------------------------------------------------------------------------------------------------------------------------------------------------------------------------------------------------------------------------------------------------------------------------------------------------------------------------------------------------------------------------------------------------------------------------------------------------------------------------------------------------------------------------------------------------------------------------------------------------------------------------------------------------------------------------------------------------------------------------------------------------------------------------------------------------------------------------------------------------------------------------------------------------------------------------------------------------------------------------------------------------------------------------------------------------------------------------------------------------------------------------------------------------------------------------------------------------------------------------------------------------------------------------------------------------------------------------------------------------------------------------------------------------------------------------------------------------------------------------------------------------------------------------------------------------------------------------------------------------------------------------------------------------------------------------------------------------------------------------------------------------------------------------------------------------------------------------------------------------------------------------------------------------------------------------------------------------------------------------------------------------------------------------------------------------------------------------------------------------------------------------------------------------------------------------------------------------------------------------------------------------------------------------------------------------------------------------------------------------------------------------------------------------------------------------------------------------------------------------------------------------------------------------------------------------------------------------------------------------------------------------------------------------------------------------------------------------------------------------------------------------------------------------------------------------------------------------------------------------------------------------------------------------------------------------------------------------------------------------------------------------------------------------------------------------------------------------------------------------------------------------------------------------------------------------------------------------------------------------------------------------------------------------------------------------------------------------------------------------------------------------------------------------------------------------------------------------------------------------------------------------------------------------------------------------------------------------------------------------------------------------------------------------------------------------------------------------------------------------------------------------------------------------------------------------------------------------------------------------------------------------------------------------------------------------------------------------------------------------------------------------------------------------------------------------------------------------------------------------------------------------------------------------------------------------------------------------------------------------------------------------------------------------------------------------------------------------------------------------------------------------------------------------------------------------------------------------------------------------------------------------------------------------------|:--------------------------------------------------|\n",
            "|       5 | L'Ouganda à l'assaut des \"fimbu\" de la RDC                                                                            | L'Ouganda, placé 79e au classement FIFA le 4 avril 2019, a pourtant été l'une des premières équipes du continent africain à s'organiser autour d'une fédération. Malgré son premier match officiel disputé le 1er mai 1926, le pays est l'une des plus irrégulières à la Coupe d'Afrique des Nations. Et pourtant, en 1962, l'Ouganda avait terminé à la 4e place de la CAN. Cependant, il a souvent essuyé de très larges défaites face à ses adversaires. Lire aussi: Ouganda: Desabre nouveau sélectionneur Une vingtaine de footballeurs disparus dans un chavirement sur le lac Albert Le  30 juillet 1995, l'Ouganda se fait corriger par l'Egypte sur le score de 6-0. L'équipe subit la même défaite le 28 juillet 1999 face à la Tunisie. Toutefois, plus fort que Djibouti, l'Ouganda a laminé celui-ci sur le score de 10-1, sa plus large victoire, le 9 décembre 2001. Les Grues ont participé à six phases finales de Coupe d'Afrique des Nations dont une finale perdue en 1978 devant le Ghana, pays organisateur, sur le score de 2-0. Le 14 mars 1978 au Ghana, l'Ouganda avait défait le Nigéria sur le score de 2-1 (buts de Nasour et de Omondi). L'attaquant ougandais Omondi était élu meilleur buteur de la CAN avec 4 buts devant l'Ougandais Kisitu (3 buts), le Ghanéen Afriyie (3 buts) et le Nigérian Odegbami (3 buts). Lire aussi: Un match de Coupe du monde vire au drame en Ouganda L'Ouganda a remporté 14 fois la CECAFA la coupe des pays d'Afrique centrale et d'Afrique de l'Est. Il est aujourd'hui porté par son attaquant Geofrey Massa qui évolue depuis 2013 à l'équipe de l'Université de Pretoria en Afrique du Sud. Le 28 décembre 2017, le français Sébastien Desabre, ancien entraineur de l'ASEC Mimosas en Côte d'Ivoire, du Coton Sport de Garoua au Cameroun et de l'Espérance de Tunis, est nommé sélectionneur de l'Ouganda. Le français a remporté plusieurs trophées nationaux et continentaux en club. L'Ouganda a été nominé comme la meilleure équipe masculine de l'année 2018 dans le CAF Awards. Il s'est qualifié pour la CAN 2019 dès la 5e journée des éliminatoires en battant le Cap Vert à domicile sur le score de 1-0, sans encaisser le moindre but. La RDC affronte l'une des meilleures défenses du continent cet après-midi.                                                                                                                                                                                                                                                                                                                                                                                                                                                                                                                                                                                                                                                                                                                                                                                                                                                                                                                                                                                                                                                                                                                                                                                                                                                                                                                                                                                                                                                                                                                                                                                                                                                                                                                                                                                                                                                                                                                                                                                                                                                                                                                                                                                                                                                                                                                                                                                                                                                                                                                                                                                                                                                                                                                                                                                                                                                                                                       | L'Ouganda à l'assaut des \"fimbu\" de la RDC L'Ouganda, placé 79e au classement FIFA le 4 avril 2019, a pourtant été l'une des premières équipes du continent africain à s'organiser autour d'une fédération. Malgré son premier match officiel disputé le 1er mai 1926, le pays est l'une des plus irrégulières à la Coupe d'Afrique des Nations. Et pourtant, en 1962, l'Ouganda avait terminé à la 4e place de la CAN. Cependant, il a souvent essuyé de très larges défaites face à ses adversaires. Lire aussi: Ouganda: Desabre nouveau sélectionneur Une vingtaine de footballeurs disparus dans un chavirement sur le lac Albert Le  30 juillet 1995, l'Ouganda se fait corriger par l'Egypte sur le score de 6-0. L'équipe subit la même défaite le 28 juillet 1999 face à la Tunisie. Toutefois, plus fort que Djibouti, l'Ouganda a laminé celui-ci sur le score de 10-1, sa plus large victoire, le 9 décembre 2001. Les Grues ont participé à six phases finales de Coupe d'Afrique des Nations dont une finale perdue en 1978 devant le Ghana, pays organisateur, sur le score de 2-0. Le 14 mars 1978 au Ghana, l'Ouganda avait défait le Nigéria sur le score de 2-1 (buts de Nasour et de Omondi). L'attaquant ougandais Omondi était élu meilleur buteur de la CAN avec 4 buts devant l'Ougandais Kisitu (3 buts), le Ghanéen Afriyie (3 buts) et le Nigérian Odegbami (3 buts). Lire aussi: Un match de Coupe du monde vire au drame en Ouganda L'Ouganda a remporté 14 fois la CECAFA la coupe des pays d'Afrique centrale et d'Afrique de l'Est. Il est aujourd'hui porté par son attaquant Geofrey Massa qui évolue depuis 2013 à l'équipe de l'Université de Pretoria en Afrique du Sud. Le 28 décembre 2017, le français Sébastien Desabre, ancien entraineur de l'ASEC Mimosas en Côte d'Ivoire, du Coton Sport de Garoua au Cameroun et de l'Espérance de Tunis, est nommé sélectionneur de l'Ouganda. Le français a remporté plusieurs trophées nationaux et continentaux en club. L'Ouganda a été nominé comme la meilleure équipe masculine de l'année 2018 dans le CAF Awards. Il s'est qualifié pour la CAN 2019 dès la 5e journée des éliminatoires en battant le Cap Vert à domicile sur le score de 1-0, sans encaisser le moindre but. La RDC affronte l'une des meilleures défenses du continent cet après-midi.                                                                                                                                                                                                                                                                                                                                                                                                                                                                                                                                                                                                                                                                                                                                                                                                                                                                                                                                                                                                                                                                                                                                                                                                                                                                                                                                                                                                                                                                                                                                                                                                                                                                                                                                                                                                                                                                                                                                                                                                                                                                                                                                                                                                                                                                                                                                                                                                                                                                                                                                                                                                                                                                                                                                                                                                                                                                                                                                                               | https://www.bbc.com/afrique/sports-48730747       |\n",
            "|       0 | Stopper la détérioration de l’environnement pour sauver la planète selon l’ONU                                        | La responsable de la biodiversité des Nations unies estime que les négociations mondiales en cours à Montréal constituent la \"dernière chance\" d'inverser la tendance à la destruction du monde naturel. \"La biodiversité est vitale. Sans elle, il n'y a pas de vie\", a déclaré Elizabeth Maruma Mrema dans l'émission Inside Science de BBC Radio 4 . Cependant elle s'inquiète de l’avancée des négociations pour que les 196 pays  membres de l’ONU parviennent à un accord. La charte mondiale sur la biodiversité, si elle est ratifiée, va constituer un changement fondamental. Il s'agit de l'équivalent pour la nature de l'accord de Paris, un traité international visant à limiter la hausse de la température mondiale et à mettre fin à la crise climatique. \"Les objectifs  de cette charte sont une feuille de route qui ambitionne, d'ici 2030, de stopper la perte de biodiversité, qui a atteint des proportions inquiétantes sans précédent dans l'histoire de l'humanité\", a déclaré Mme Mrema. La liste des 20 objectifs qui figurent dans la charte comprend des points réalisables, comme un appel à la conservation de 30 % des terres et des mers grâce à la création d'aires protégées. Mais la mise en œuvre inclut également des questions politiques plus délicates, telles que la protection des droits et l'accès des peuples autochtones à leurs territoires. Les communautés autochtones occupent environ 85 % de la biodiversité mondiale. Force est de remarquer que les zones où elles sont installées, sont nettement mieux protégées contre la dégradation de l’environnement. Le projet d'accord actuel comporte encore \"beaucoup de crochets\", a déclaré Mme Mrema. \"Et qui dit parenthèses dit désaccord - des domaines où les 196 doivent encore se mettre d'accord, faire des compromis et parvenir à un consensus.\" Dans un article publié dans Nature, avant les négociations, l'écologiste Sandra Diaz, de l'Université nationale de Cordoue, a déclaré que les crochets avaient \"proliféré à un rythme alarmant dans tout le texte, neutralisant et paralysant les objectifs et les cibles\". Et certains scientifiques de Montréal craignent que la politique ne reflète pas les preuves. Mme Mrema a déclaré que les preuves scientifiques révélaient l'ampleur de la crise et l'urgence de faire aboutir les négociations. \"Nous avons déjà dégradé 75 % de la surface de la Terre et plus de 60 % de l'environnement marin\", a-t-elle déclaré. \"La moitié des récifs coralliens ont déjà disparu et 85 % des zones humides sont dégradées.\" Il faut agir maintenant, a déclaré Mme Mrema, \"sinon il n'y aura pas d'avenir pour nos enfants et nos petits-enfants\". Dans son discours d'ouverture, le secrétaire général des Nations unies, Antonio Guterres, a déclaré que l'humanité avait détruit les écosystèmes et \"traité la nature comme des toilettes\". Il a appelé à un pacte de paix avec le monde naturel et, dans un clin d'œil à peine voilé à ceux qui ont l'ambition de coloniser Mars, il a déclaré : \"Oubliez les rêves de certains milliardaires, il n'y a pas de planète B.\" S'exprimant lors de la cérémonie d'ouverture, mardi, le Premier ministre canadien, Justin Trudeau, a déclaré : \"Si nous ne pouvons pas nous entendre, en tant que monde, sur quelque chose d'aussi fondamental que la protection de la nature, rien d'autre ne compte.\" Mais après que de jeunes militants autochtones se soient levés, aient chanté et déployé une bannière disant : \"Pour sauver la biodiversité, arrêtez d'envahir nos terres\", le premier ministre est resté silencieux alors qu'ils ont fini par sortir de la salle en scandant : \"Trudeau est un colonisateur\". Mme Mrema a déclaré que la participation des manifestants à l'événement était un signe de transparence. \"Tout le monde est inclus\", a-t-elle déclaré. \"Et ils ont délivré un message à leurs partis pour qu'ils écoutent - et clairement, ils ont été entendus\".                                                                                                                                                                                                                                                                                                                                                                                                                                                                                                                                                                                                                                                                                                                                                                                                                                                                                                                                                                                                                                                                                                                                                                                                     | Stopper la détérioration de l’environnement pour sauver la planète selon l’ONU La responsable de la biodiversité des Nations unies estime que les négociations mondiales en cours à Montréal constituent la \"dernière chance\" d'inverser la tendance à la destruction du monde naturel. \"La biodiversité est vitale. Sans elle, il n'y a pas de vie\", a déclaré Elizabeth Maruma Mrema dans l'émission Inside Science de BBC Radio 4 . Cependant elle s'inquiète de l’avancée des négociations pour que les 196 pays  membres de l’ONU parviennent à un accord. La charte mondiale sur la biodiversité, si elle est ratifiée, va constituer un changement fondamental. Il s'agit de l'équivalent pour la nature de l'accord de Paris, un traité international visant à limiter la hausse de la température mondiale et à mettre fin à la crise climatique. \"Les objectifs  de cette charte sont une feuille de route qui ambitionne, d'ici 2030, de stopper la perte de biodiversité, qui a atteint des proportions inquiétantes sans précédent dans l'histoire de l'humanité\", a déclaré Mme Mrema. La liste des 20 objectifs qui figurent dans la charte comprend des points réalisables, comme un appel à la conservation de 30 % des terres et des mers grâce à la création d'aires protégées. Mais la mise en œuvre inclut également des questions politiques plus délicates, telles que la protection des droits et l'accès des peuples autochtones à leurs territoires. Les communautés autochtones occupent environ 85 % de la biodiversité mondiale. Force est de remarquer que les zones où elles sont installées, sont nettement mieux protégées contre la dégradation de l’environnement. Le projet d'accord actuel comporte encore \"beaucoup de crochets\", a déclaré Mme Mrema. \"Et qui dit parenthèses dit désaccord - des domaines où les 196 doivent encore se mettre d'accord, faire des compromis et parvenir à un consensus.\" Dans un article publié dans Nature, avant les négociations, l'écologiste Sandra Diaz, de l'Université nationale de Cordoue, a déclaré que les crochets avaient \"proliféré à un rythme alarmant dans tout le texte, neutralisant et paralysant les objectifs et les cibles\". Et certains scientifiques de Montréal craignent que la politique ne reflète pas les preuves. Mme Mrema a déclaré que les preuves scientifiques révélaient l'ampleur de la crise et l'urgence de faire aboutir les négociations. \"Nous avons déjà dégradé 75 % de la surface de la Terre et plus de 60 % de l'environnement marin\", a-t-elle déclaré. \"La moitié des récifs coralliens ont déjà disparu et 85 % des zones humides sont dégradées.\" Il faut agir maintenant, a déclaré Mme Mrema, \"sinon il n'y aura pas d'avenir pour nos enfants et nos petits-enfants\". Dans son discours d'ouverture, le secrétaire général des Nations unies, Antonio Guterres, a déclaré que l'humanité avait détruit les écosystèmes et \"traité la nature comme des toilettes\". Il a appelé à un pacte de paix avec le monde naturel et, dans un clin d'œil à peine voilé à ceux qui ont l'ambition de coloniser Mars, il a déclaré : \"Oubliez les rêves de certains milliardaires, il n'y a pas de planète B.\" S'exprimant lors de la cérémonie d'ouverture, mardi, le Premier ministre canadien, Justin Trudeau, a déclaré : \"Si nous ne pouvons pas nous entendre, en tant que monde, sur quelque chose d'aussi fondamental que la protection de la nature, rien d'autre ne compte.\" Mais après que de jeunes militants autochtones se soient levés, aient chanté et déployé une bannière disant : \"Pour sauver la biodiversité, arrêtez d'envahir nos terres\", le premier ministre est resté silencieux alors qu'ils ont fini par sortir de la salle en scandant : \"Trudeau est un colonisateur\". Mme Mrema a déclaré que la participation des manifestants à l'événement était un signe de transparence. \"Tout le monde est inclus\", a-t-elle déclaré. \"Et ils ont délivré un message à leurs partis pour qu'ils écoutent - et clairement, ils ont été entendus\".                                                                                                                                                                                                                                                                                                                                                                                                                                                                                                                                                                                                                                                                                                                                                                                                                                                                                                                                                                                                                                                                                                                                                                                                                         | https://www.bbc.com/afrique/articles/cevdz4xrp42o |\n",
            "|       5 | Coupe d'Afrique des nations 2022 : le sélectionneur de la Sierra Leone révèle les menaces de mort qu'il a reçues      | Le sélectionneur de la Sierra Leone, John Keister, affirme avoir reçu des menaces de mort avant de nommer son équipe pour la Coupe d'Afrique des Nations, qui débute dimanche au Cameroun. L'homme de 51 ans a reçu deux menaces - concernant l'inclusion de certains joueurs - un jour avant d'annoncer sa liste de 28 joueurs et les a signalées à la police. \"Je pense que c'est très, très triste que l'on en arrive là\", a déclaré Keister, originaire de Manchester, à BBC Sport Africa. \"Quel que soit le milieu dans lequel vous êtes, personne ne mérite cela\". A lire aussi : Keister a ajouté : \"Je ne pense pas qu'il faille en arriver à ce point où ma vie est menacée parce que les gens pensent que les joueurs devraient être dans [l'équipe] - et s'ils ne le sont pas, voilà ce qu'ils vont faire.\" Keister a joué pour plusieurs clubs britanniques, dont Walsall et Margate, au cours de sa carrière. Il a été sélectionné par la Sierra Leone entre 1997 et 2003. Il en est à son deuxième mandat en tant que sélectionneur national et a conduit les Leone Stars, classés 108e au monde, en finale du tournoi pour la première fois depuis 1996. \"Nous avons parcouru un long chemin, il n'y a donc aucune raison pour les menaces de mort\", a ajouté Keister. \"J'ai une famille, je m'occupe de ces garçons et j'ai un travail à faire. Cela me met en colère et pour moi, d'où je viens et de mon milieu, je sens que je dois faire quelque chose à ce sujet. \"Quel que soit le travail, je dois faire quelque chose à ce sujet.\" Son équipe, qui comprend le défenseur anglais Steven Caulker et l'ancien attaquant de Middlesbrough Kei Kamara, 37 ans, affrontera l'Algérie, tenante du titre, la Côte d'Ivoire et la Guinée équatoriale dans le groupe E de la Coupe des Nations.                                                                                                                                                                                                                                                                                                                                                                                                                                                                                                                                                                                                                                                                                                                                                                                                                                                                                                                                                                                                                                                                                                                                                                                                                                                                                                                                                                                                                                                                                                                                                                                                                                                                                                                                                                                                                                                                                                                                                                                                                                                                                                                                                                                                                                                                                                                                                                                                                                                                                                                                                                                                                                                                                                                                                                                                                                                                                                                                                                                                                                                                                                                                                                                                                                                                                                                                                                                                | Coupe d'Afrique des nations 2022 : le sélectionneur de la Sierra Leone révèle les menaces de mort qu'il a reçues Le sélectionneur de la Sierra Leone, John Keister, affirme avoir reçu des menaces de mort avant de nommer son équipe pour la Coupe d'Afrique des Nations, qui débute dimanche au Cameroun. L'homme de 51 ans a reçu deux menaces - concernant l'inclusion de certains joueurs - un jour avant d'annoncer sa liste de 28 joueurs et les a signalées à la police. \"Je pense que c'est très, très triste que l'on en arrive là\", a déclaré Keister, originaire de Manchester, à BBC Sport Africa. \"Quel que soit le milieu dans lequel vous êtes, personne ne mérite cela\". A lire aussi : Keister a ajouté : \"Je ne pense pas qu'il faille en arriver à ce point où ma vie est menacée parce que les gens pensent que les joueurs devraient être dans [l'équipe] - et s'ils ne le sont pas, voilà ce qu'ils vont faire.\" Keister a joué pour plusieurs clubs britanniques, dont Walsall et Margate, au cours de sa carrière. Il a été sélectionné par la Sierra Leone entre 1997 et 2003. Il en est à son deuxième mandat en tant que sélectionneur national et a conduit les Leone Stars, classés 108e au monde, en finale du tournoi pour la première fois depuis 1996. \"Nous avons parcouru un long chemin, il n'y a donc aucune raison pour les menaces de mort\", a ajouté Keister. \"J'ai une famille, je m'occupe de ces garçons et j'ai un travail à faire. Cela me met en colère et pour moi, d'où je viens et de mon milieu, je sens que je dois faire quelque chose à ce sujet. \"Quel que soit le travail, je dois faire quelque chose à ce sujet.\" Son équipe, qui comprend le défenseur anglais Steven Caulker et l'ancien attaquant de Middlesbrough Kei Kamara, 37 ans, affrontera l'Algérie, tenante du titre, la Côte d'Ivoire et la Guinée équatoriale dans le groupe E de la Coupe des Nations.                                                                                                                                                                                                                                                                                                                                                                                                                                                                                                                                                                                                                                                                                                                                                                                                                                                                                                                                                                                                                                                                                                                                                                                                                                                                                                                                                                                                                                                                                                                                                                                                                                                                                                                                                                                                                                                                                                                                                                                                                                                                                                                                                                                                                                                                                                                                                                                                                                                                                                                                                                                                                                                                                                                                                                                                                                                                                                                                                                                                                                                                                                                                                                                                                                                                                                                                                                                  | https://www.bbc.com/afrique/region-59881445       |\n",
            "|       0 | Tissus africains : pourquoi les teintureries historiques du Nigéria, à Kano, risquent la fermeture                    | Depuis plus de six siècles, une vaste zone située dans la ville historique de Kano, dans le nord du Nigeria, abrite des teintureries, où de magnifiques tissus sont fabriqués selon des techniques anciennes. Les tissus - teints d'un bleu profond - sont depuis longtemps vendus en Afrique et au Moyen-Orient. Mais beaucoup s'inquiètent de voir cette industrie menacée. Lire aussi sur BBC Afrique : \"La jeune génération ne veut pas se joindre aux teinturiers\", se plaint Baba Muhammad, accroupi près d'une large fosse remplie d'un liquide sombre de couleur indigo. L'homme de 75 ans plonge un morceau de tissu dans le trou, les mains recouvertes de gants en caoutchouc. Le vieux teinturier craint d'être l'une des dernières personnes à pratiquer cet ancien rituel, les jeunes ayant des goûts plus modernes. \"Ils préfèrent se lancer dans les affaires, ils aiment concevoir les tissus, mais pas les teindre\", explique-t-il. Les teintureries de Kofar Mata - établies au tournant du XVIe siècle - étaient autrefois une source de revenus pour des milliers de personnes de la région. Les motifs uniques des tissus sont généralement créés par les femmes, qui tordent et nouent le tissu chez elles en différentes formes pour produire les motifs. Les tissus noués sont ensuite confiés aux teinturiers. La ville de Kano est un centre économique important pour le nord du Nigeria et était une étape cruciale du commerce transsaharien à l'époque précoloniale. Les historiens racontent que les Touaregs - les \"hommes bleus du désert\", ainsi nommés en raison de la couleur frappante de leurs vêtements - avaient l'habitude de visiter l'ancienne ville. Ils y échangeaient des chameaux et des dattes contre des tissus aux teintes éclatantes. L'attrait des tissus de Kofar Mata était en grande partie dû aux ingrédients naturels d'origine locale utilisés pour teindre les vêtements. Aujourd'hui encore, les teinturiers affirment qu'ils évitent les ingrédients artificiels et recourent à des matières telles que la plante indigo locale, qui donne sa couleur au tissu. Mais durant ces dernières années, cette ancienne tradition a dû faire face à une myriade de menaces. L'une d'entre elles est l'insurrection de Boko Haram, qui a entraîné une raréfaction des clients, notamment ceux qui voyagent dans le nord-est du Nigeria, où les militants islamistes sont actifs. Cette situation a également eu un impact sur ceux qui viennent de plus loin. \"Avant, les touristes venaient ici en permanence, en provenance du monde entier : La France, l'Allemagne, le Royaume-Uni et l'Amérique - mais le problème de l'insécurité dans le nord du Nigeria a affecté le commerce\", explique Baballiya Hamisu, l'un des teinturiers. À 37 ans, Hamisu est l'un des plus jeunes teinturiers travaillant dans les puits. \"J'ai commencé à teindre à l'âge de 10 ans, donc je fais ce métier depuis environ vingt-cinq ans\", dit-il. Pourtant, Hamisu dit qu'il est assez âgé pour être nostalgique de cette forme d'art en voie de disparition. \"Quand j'étais enfant, ici, se souvient-il, les teintureries étaient en très grand nombre, mais aujourd'hui nous n'en avons que 144, dont pas plus de 15 sont utilisées.\" Kano fait partie des villes à la croissance la plus rapide d'Afrique subsaharienne. Durant ces dernières années, elle a été le théâtre de démolitions très controversées d'un certain nombre de ses sites historiques, démolitions jugées nécessaires par le gouvernement, qui veut en faire une ville moderne. Tijjani Muhammad Naniya, historien à l'université Bayero de Kano, affirme que l'urbanisation n'est pas la seule menace sur les teintureries. \"Le problème est né d'une politique coloniale visant à transformer l'économie de Kano, qui a vu la ville importer des vêtements de Manchester et d'autres villes à l'étranger\", explique-t-il. L'avènement des tissus importés bon marché est un problème majeur pour les teinturiers locaux. Ils affirment que, bien que les prix soient relativement les mêmes, la concurrence est rude, de nombreux clients étant attirés par les nouveaux modèles modernes. La plupart des hommes qui travaillent dans les puits sont des descendants de teinturiers, comme Haruna Baffa, le responsable des puits de teinture de Kofar Mata, qui dit être de la septième génération. Le visage souriant, il retrace la riche histoire de sa famille : \"J'ai hérité cette entreprise de mon père, mon père l'a héritée de son père - c'est de génération en génération. Mon septième arrière-grand-père, Muhammadu Dabosa, est le fondateur du centre de teinture.\" Les teinturiers affirment qu'ils ne reçoivent aucune aide publique du gouvernement ou des pouvoirs publics locaux. Hamisu estime que des efforts peuvent être faits pour préserver cette importante industrie. \"Si le gouvernement peut acheter nos produits et encourager les gens à faire de même, nous prospérerons\", a-t-il dit. \"Imaginez que le président ou un gouverneur porte l'un de nos tissus Kofar Mata, peu importe la valeur qu'il semble avoir, il deviendra précieux\", ajoute Hamisu. | Tissus africains : pourquoi les teintureries historiques du Nigéria, à Kano, risquent la fermeture Depuis plus de six siècles, une vaste zone située dans la ville historique de Kano, dans le nord du Nigeria, abrite des teintureries, où de magnifiques tissus sont fabriqués selon des techniques anciennes. Les tissus - teints d'un bleu profond - sont depuis longtemps vendus en Afrique et au Moyen-Orient. Mais beaucoup s'inquiètent de voir cette industrie menacée. Lire aussi sur BBC Afrique : \"La jeune génération ne veut pas se joindre aux teinturiers\", se plaint Baba Muhammad, accroupi près d'une large fosse remplie d'un liquide sombre de couleur indigo. L'homme de 75 ans plonge un morceau de tissu dans le trou, les mains recouvertes de gants en caoutchouc. Le vieux teinturier craint d'être l'une des dernières personnes à pratiquer cet ancien rituel, les jeunes ayant des goûts plus modernes. \"Ils préfèrent se lancer dans les affaires, ils aiment concevoir les tissus, mais pas les teindre\", explique-t-il. Les teintureries de Kofar Mata - établies au tournant du XVIe siècle - étaient autrefois une source de revenus pour des milliers de personnes de la région. Les motifs uniques des tissus sont généralement créés par les femmes, qui tordent et nouent le tissu chez elles en différentes formes pour produire les motifs. Les tissus noués sont ensuite confiés aux teinturiers. La ville de Kano est un centre économique important pour le nord du Nigeria et était une étape cruciale du commerce transsaharien à l'époque précoloniale. Les historiens racontent que les Touaregs - les \"hommes bleus du désert\", ainsi nommés en raison de la couleur frappante de leurs vêtements - avaient l'habitude de visiter l'ancienne ville. Ils y échangeaient des chameaux et des dattes contre des tissus aux teintes éclatantes. L'attrait des tissus de Kofar Mata était en grande partie dû aux ingrédients naturels d'origine locale utilisés pour teindre les vêtements. Aujourd'hui encore, les teinturiers affirment qu'ils évitent les ingrédients artificiels et recourent à des matières telles que la plante indigo locale, qui donne sa couleur au tissu. Mais durant ces dernières années, cette ancienne tradition a dû faire face à une myriade de menaces. L'une d'entre elles est l'insurrection de Boko Haram, qui a entraîné une raréfaction des clients, notamment ceux qui voyagent dans le nord-est du Nigeria, où les militants islamistes sont actifs. Cette situation a également eu un impact sur ceux qui viennent de plus loin. \"Avant, les touristes venaient ici en permanence, en provenance du monde entier : La France, l'Allemagne, le Royaume-Uni et l'Amérique - mais le problème de l'insécurité dans le nord du Nigeria a affecté le commerce\", explique Baballiya Hamisu, l'un des teinturiers. À 37 ans, Hamisu est l'un des plus jeunes teinturiers travaillant dans les puits. \"J'ai commencé à teindre à l'âge de 10 ans, donc je fais ce métier depuis environ vingt-cinq ans\", dit-il. Pourtant, Hamisu dit qu'il est assez âgé pour être nostalgique de cette forme d'art en voie de disparition. \"Quand j'étais enfant, ici, se souvient-il, les teintureries étaient en très grand nombre, mais aujourd'hui nous n'en avons que 144, dont pas plus de 15 sont utilisées.\" Kano fait partie des villes à la croissance la plus rapide d'Afrique subsaharienne. Durant ces dernières années, elle a été le théâtre de démolitions très controversées d'un certain nombre de ses sites historiques, démolitions jugées nécessaires par le gouvernement, qui veut en faire une ville moderne. Tijjani Muhammad Naniya, historien à l'université Bayero de Kano, affirme que l'urbanisation n'est pas la seule menace sur les teintureries. \"Le problème est né d'une politique coloniale visant à transformer l'économie de Kano, qui a vu la ville importer des vêtements de Manchester et d'autres villes à l'étranger\", explique-t-il. L'avènement des tissus importés bon marché est un problème majeur pour les teinturiers locaux. Ils affirment que, bien que les prix soient relativement les mêmes, la concurrence est rude, de nombreux clients étant attirés par les nouveaux modèles modernes. La plupart des hommes qui travaillent dans les puits sont des descendants de teinturiers, comme Haruna Baffa, le responsable des puits de teinture de Kofar Mata, qui dit être de la septième génération. Le visage souriant, il retrace la riche histoire de sa famille : \"J'ai hérité cette entreprise de mon père, mon père l'a héritée de son père - c'est de génération en génération. Mon septième arrière-grand-père, Muhammadu Dabosa, est le fondateur du centre de teinture.\" Les teinturiers affirment qu'ils ne reçoivent aucune aide publique du gouvernement ou des pouvoirs publics locaux. Hamisu estime que des efforts peuvent être faits pour préserver cette importante industrie. \"Si le gouvernement peut acheter nos produits et encourager les gens à faire de même, nous prospérerons\", a-t-il dit. \"Imaginez que le président ou un gouverneur porte l'un de nos tissus Kofar Mata, peu importe la valeur qu'il semble avoir, il deviendra précieux\", ajoute Hamisu. | https://www.bbc.com/afrique/region-61202726       |\n",
            "|       0 | Les revenus pendant la pandémie des dix hommes les plus riches \"pourraient permettre d'acheter des vaccins pour tous\" | Pendant la pandémie de coronavirus, la richesse combinée des dix hommes les plus riches du monde a augmenté de 540 milliards de dollars (291 206  milliards de Fcfa), constate Oxfam. Cette somme serait suffisante pour éviter que le virus ne plonge tout le monde dans la pauvreté et pour offrir un vaccin à tous, soutient l'ONG. Selon son rapport, la richesse totale des milliardaires équivaut à la totalité des dépenses engagées par tous les gouvernements du G20 pour se remettre du virus. L'organisation caritative exhorte les gouvernements à envisager de taxer les super-riches. Le rapport, intitulé \"Inequality Virus\", a été publié dans la foulée du sommet virtuel du Forum économique mondial sur le \"dialogue de Davos\". A ne pas manquer sur BBC Afrique : Le soutien sans précédent apporté par les gouvernements à leurs économies a permis l'essor des marchés boursiers, entraînant une augmentation de la richesse des milliardaires, alors que l'économie réelle est confrontée à la récession la plus grave depuis un siècle, affirme le rapport. À l'échelle mondiale, la richesse des milliardaires a augmenté de 3,9 milliards de dollars entre le 18 mars et le 31 décembre 2020 et s'élève aujourd'hui à 11,95 milliards de dollars, soit l'équivalent de ce que les gouvernements du G20 ont dépensé pour faire face à la pandémie, indique le rapport. Parmi les dix personnes les plus riches, dont la fortune a augmenté de 540 milliards de dollars depuis mars 2020, figurent le fondateur d'Amazon, Jeff Bezos, le fondateur de Tesla, Elon Musk, et le fondateur de Facebook, Mark Zuckerberg. Le rapport révèle que M. Bezos a gagné tellement d'argent au mois de septembre 2020 qu'il aurait pu donner une prime de 105 000 dollars à l'ensemble des 876 000 employés d'Amazon et être toujours aussi riche qu'avant la pandémie. A titre de comparaison, pour les plus pauvres du monde, la reprise pourrait prendre plus d'une décennie. Oxfam estime que jusqu'à 500 millions de personnes supplémentaires vivent dans la pauvreté à cause  de la pandémie, inversant ainsi le déclin de la pauvreté mondiale observé au cours des deux dernières décennies. Lire aussi : \"Nous pensons que c'est ... une opportunité de faire quelque chose de radical pour reconstruire de manière plus juste, de penser aux impôts sur la fortune, aux impôts sur les sociétés, de penser à augmenter le niveau social de base pour chaque citoyen\", explique à la BBC Danny Sriskandarajah, directeur général d'Oxfam GB. En ce qui concerne le Royaume-Uni, il indique que le prélèvement d'un impôt pourrait rapporter des millions. Un nombre relativement élevé de méga-donations caritatives ont eu lieu depuis le début de la pandémie, des célébrités, des stars du sport et des chefs d'entreprise ayant répondu à l'urgence du Covid-19 et à d'autres causes. Le mois dernier, MacKenzie Scott, l'ex-femme de Jeff Bezos, a révélé qu'elle avait donné plus de 4 milliards de dollars (3 milliards de livres sterling) aux banques alimentaires et aux fonds de secours d'urgence en quatre mois. Dans un billet de blog, Mme Scott explique qu'elle veut  aider les Américains qui luttent contre la pandémie. Lire aussi : Le co-fondateur de Twitter, Jack Dorsey, a annoncé en avril qu'il transférait 1 milliard de dollars de ses actifs dans un fonds destiné à soutenir les efforts de soutien en cas de pandémie et d'autres causes. Cela représente environ un quart de sa fortune nette de 3,9 milliards de dollars. Bill Gates et sa femme Melinda ont engagé 305 millions de dollars pour la mise au point de vaccins, de traitements et de diagnostics par l'intermédiaire de leur fondation caritative, tandis que l'auteur de Harry Potter, JK Rowling, a fait don d'un million de livres sterling pour aider les sans-abri et les personnes touchées par la violence domestique pendant la pandémie. En juin de l'année dernière, M. Bezos aurait fait un don de 125 millions de dollars à la lutte contre le coronavirus..                                                                                                                                                                                                                                                                                                                                                                                                                                                                                                                                                                                                                                                                                                                                                                                                                                                                                                                                                                                                                                                                                                                | Les revenus pendant la pandémie des dix hommes les plus riches \"pourraient permettre d'acheter des vaccins pour tous\" Pendant la pandémie de coronavirus, la richesse combinée des dix hommes les plus riches du monde a augmenté de 540 milliards de dollars (291 206  milliards de Fcfa), constate Oxfam. Cette somme serait suffisante pour éviter que le virus ne plonge tout le monde dans la pauvreté et pour offrir un vaccin à tous, soutient l'ONG. Selon son rapport, la richesse totale des milliardaires équivaut à la totalité des dépenses engagées par tous les gouvernements du G20 pour se remettre du virus. L'organisation caritative exhorte les gouvernements à envisager de taxer les super-riches. Le rapport, intitulé \"Inequality Virus\", a été publié dans la foulée du sommet virtuel du Forum économique mondial sur le \"dialogue de Davos\". A ne pas manquer sur BBC Afrique : Le soutien sans précédent apporté par les gouvernements à leurs économies a permis l'essor des marchés boursiers, entraînant une augmentation de la richesse des milliardaires, alors que l'économie réelle est confrontée à la récession la plus grave depuis un siècle, affirme le rapport. À l'échelle mondiale, la richesse des milliardaires a augmenté de 3,9 milliards de dollars entre le 18 mars et le 31 décembre 2020 et s'élève aujourd'hui à 11,95 milliards de dollars, soit l'équivalent de ce que les gouvernements du G20 ont dépensé pour faire face à la pandémie, indique le rapport. Parmi les dix personnes les plus riches, dont la fortune a augmenté de 540 milliards de dollars depuis mars 2020, figurent le fondateur d'Amazon, Jeff Bezos, le fondateur de Tesla, Elon Musk, et le fondateur de Facebook, Mark Zuckerberg. Le rapport révèle que M. Bezos a gagné tellement d'argent au mois de septembre 2020 qu'il aurait pu donner une prime de 105 000 dollars à l'ensemble des 876 000 employés d'Amazon et être toujours aussi riche qu'avant la pandémie. A titre de comparaison, pour les plus pauvres du monde, la reprise pourrait prendre plus d'une décennie. Oxfam estime que jusqu'à 500 millions de personnes supplémentaires vivent dans la pauvreté à cause  de la pandémie, inversant ainsi le déclin de la pauvreté mondiale observé au cours des deux dernières décennies. Lire aussi : \"Nous pensons que c'est ... une opportunité de faire quelque chose de radical pour reconstruire de manière plus juste, de penser aux impôts sur la fortune, aux impôts sur les sociétés, de penser à augmenter le niveau social de base pour chaque citoyen\", explique à la BBC Danny Sriskandarajah, directeur général d'Oxfam GB. En ce qui concerne le Royaume-Uni, il indique que le prélèvement d'un impôt pourrait rapporter des millions. Un nombre relativement élevé de méga-donations caritatives ont eu lieu depuis le début de la pandémie, des célébrités, des stars du sport et des chefs d'entreprise ayant répondu à l'urgence du Covid-19 et à d'autres causes. Le mois dernier, MacKenzie Scott, l'ex-femme de Jeff Bezos, a révélé qu'elle avait donné plus de 4 milliards de dollars (3 milliards de livres sterling) aux banques alimentaires et aux fonds de secours d'urgence en quatre mois. Dans un billet de blog, Mme Scott explique qu'elle veut  aider les Américains qui luttent contre la pandémie. Lire aussi : Le co-fondateur de Twitter, Jack Dorsey, a annoncé en avril qu'il transférait 1 milliard de dollars de ses actifs dans un fonds destiné à soutenir les efforts de soutien en cas de pandémie et d'autres causes. Cela représente environ un quart de sa fortune nette de 3,9 milliards de dollars. Bill Gates et sa femme Melinda ont engagé 305 millions de dollars pour la mise au point de vaccins, de traitements et de diagnostics par l'intermédiaire de leur fondation caritative, tandis que l'auteur de Harry Potter, JK Rowling, a fait don d'un million de livres sterling pour aider les sans-abri et les personnes touchées par la violence domestique pendant la pandémie. En juin de l'année dernière, M. Bezos aurait fait un don de 125 millions de dollars à la lutte contre le coronavirus..                                                                                                                                                                                                                                                                                                                                                                                                                                                                                                                                                                                                                                                                                                                                                                                                                                                                                                                                                                                                                                                                                             | https://www.bbc.com/afrique/monde-55812018        |\n"
          ]
        }
      ]
    },
    {
      "cell_type": "code",
      "source": [
        "# Cell 4: Preparing Loaded Dataset and Labels\n",
        "from datasets import DatasetDict\n",
        "\n",
        "if 'masakhanews_dataset' in locals() and isinstance(masakhanews_dataset, DatasetDict):\n",
        "    print(\"Preparing the loaded MasakhaNEWS dataset...\")\n",
        "\n",
        "    # --- Label Preparation ---\n",
        "    # Get label information directly from the dataset features\n",
        "    label_feature = masakhanews_dataset['train'].features['label']\n",
        "    print(\"Label feature:\", label_feature)\n",
        "\n",
        "    # Get the names corresponding to the integer labels\n",
        "    id2label = {i: label for i, label in enumerate(label_feature.names)}\n",
        "    label2id = {label: i for i, label in enumerate(label_feature.names)}\n",
        "    num_labels = label_feature.num_classes\n",
        "\n",
        "    print(f\"\\nNumber of unique labels found: {num_labels}\")\n",
        "    print(f\"Dataset's ID to Label mapping: {id2label}\")\n",
        "    print(f\"Dataset's Label to ID mapping: {label2id}\")\n",
        "\n",
        "\n",
        "    # --- Prepare Dataset Splits ---\n",
        "    # Rename 'validation' split to 'eval' (which the Trainer often expects)\n",
        "    try:\n",
        "        processed_dataset_dict = DatasetDict({\n",
        "            'train': masakhanews_dataset['train'],\n",
        "            'eval': masakhanews_dataset['validation'], # Use validation split as eval\n",
        "            'test': masakhanews_dataset['test']       # Keep test split separate\n",
        "        })\n",
        "        print(\"\\nRenamed 'validation' split to 'eval'.\")\n",
        "    except KeyError:\n",
        "        print(\"Warning: Could not find 'validation' split, check dataset structure.\")\n",
        "        # Fallback if validation split is missing for some reason\n",
        "        processed_dataset_dict = masakhanews_dataset\n",
        "\n",
        "\n",
        "    # --- Optional: Filter very short texts (might not be necessary) ---\n",
        "    # def filter_short(example):\n",
        "    #    return len(example['text'].strip()) > 50 # Keep only texts longer than 50 chars\n",
        "    # print(\"\\nFiltering out very short texts (optional)...\")\n",
        "    # processed_dataset_dict = processed_dataset_dict.filter(filter_short)\n",
        "    # print(\"Filtering done (if enabled).\")\n",
        "\n",
        "\n",
        "    # --- Select relevant columns ---\n",
        "    # Keep only 'text' and 'label' - Tokenizer will handle 'text' later\n",
        "    # We need 'label' for the model.\n",
        "    # If 'text' column doesn't exist, maybe use 'headline_text'? Check features printout above.\n",
        "    text_column = 'text' # Assuming 'text' is the main content column\n",
        "    columns_to_keep = [text_column, 'label']\n",
        "    columns_to_remove = [col for col in processed_dataset_dict['train'].column_names if col not in columns_to_keep]\n",
        "\n",
        "    if text_column not in processed_dataset_dict['train'].column_names:\n",
        "         print(f\"WARNING: Column '{text_column}' not found. Check dataset features and adjust 'text_column' variable.\")\n",
        "    else:\n",
        "        print(f\"\\nRemoving unused columns: {columns_to_remove}\")\n",
        "        processed_dataset_dict = processed_dataset_dict.remove_columns(columns_to_remove)\n",
        "        print(\"Columns removed.\")\n",
        "\n",
        "    print(\"\\nFinal prepared dataset structure:\")\n",
        "    print(processed_dataset_dict)\n",
        "\n",
        "else:\n",
        "    print(\"MasakhaNEWS dataset dictionary not found or invalid, cannot proceed.\")\n",
        "    processed_dataset_dict = None # Ensure variable exists but is None"
      ],
      "metadata": {
        "colab": {
          "base_uri": "https://localhost:8080/"
        },
        "id": "fY_PjLMRCmf0",
        "outputId": "9e7d9efe-d151-4aa1-a21e-9485939eeaa9"
      },
      "execution_count": null,
      "outputs": [
        {
          "output_type": "stream",
          "name": "stdout",
          "text": [
            "Preparing the loaded MasakhaNEWS dataset...\n",
            "Label feature: ClassLabel(names=['business', 'entertainment', 'health', 'politics', 'religion', 'sports', 'technology'], id=None)\n",
            "\n",
            "Number of unique labels found: 7\n",
            "Dataset's ID to Label mapping: {0: 'business', 1: 'entertainment', 2: 'health', 3: 'politics', 4: 'religion', 5: 'sports', 6: 'technology'}\n",
            "Dataset's Label to ID mapping: {'business': 0, 'entertainment': 1, 'health': 2, 'politics': 3, 'religion': 4, 'sports': 5, 'technology': 6}\n",
            "\n",
            "Renamed 'validation' split to 'eval'.\n",
            "\n",
            "Removing unused columns: ['headline', 'headline_text', 'url']\n",
            "Columns removed.\n",
            "\n",
            "Final prepared dataset structure:\n",
            "DatasetDict({\n",
            "    train: Dataset({\n",
            "        features: ['label', 'text'],\n",
            "        num_rows: 1476\n",
            "    })\n",
            "    eval: Dataset({\n",
            "        features: ['label', 'text'],\n",
            "        num_rows: 211\n",
            "    })\n",
            "    test: Dataset({\n",
            "        features: ['label', 'text'],\n",
            "        num_rows: 422\n",
            "    })\n",
            "})\n"
          ]
        }
      ]
    },
    {
      "cell_type": "code",
      "source": [
        "# Cell 4.1: Visualizing Label Distribution (Enhanced)\n",
        "import matplotlib.pyplot as plt\n",
        "import seaborn as sns\n",
        "import pandas as pd\n",
        "\n",
        "if 'processed_dataset_dict' in locals() and 'id2label' in locals():\n",
        "    print(\"Visualizing label distribution for the training set...\")\n",
        "    try:\n",
        "        # Convert train split labels to pandas Series to easily count values\n",
        "        train_labels = pd.Series(processed_dataset_dict['train']['label'])\n",
        "        label_counts = train_labels.value_counts().sort_index()\n",
        "        label_names = [id2label.get(i, f\"ID_{i}\") for i in label_counts.index]\n",
        "\n",
        "        # --- Enhanced Plotting ---\n",
        "        plt.style.use('seaborn-v0_8-whitegrid') # Use a clean grid style\n",
        "        plt.figure(figsize=(12, 7)) # Slightly larger figure\n",
        "\n",
        "        # Create barplot using seaborn for better aesthetics\n",
        "        barplot = sns.barplot(x=label_counts.index, y=label_counts.values, palette=\"viridis\") # Use integer IDs for x if using names for y later, or vice-versa\n",
        "\n",
        "        # Add count labels on top of bars\n",
        "        for index, value in enumerate(label_counts.values):\n",
        "            plt.text(index, value + 5, str(value), ha='center', va='bottom', fontsize=9) # Adjust position slightly if needed\n",
        "\n",
        "        plt.title('Article Distribution per Topic in MasakhaNEWS Training Set', fontsize=14)\n",
        "        plt.ylabel('Number of Articles', fontsize=12)\n",
        "        plt.xlabel('Topic Category', fontsize=12)\n",
        "        # Use label names for x-axis ticks\n",
        "        plt.xticks(ticks=range(len(label_names)), labels=label_names, rotation=45, ha='right', fontsize=10)\n",
        "        plt.yticks(fontsize=10)\n",
        "        plt.tight_layout()\n",
        "        # --- End Enhanced Plotting ---\n",
        "\n",
        "        # Saving the plot\n",
        "        plot_save_path = '/content/drive/MyDrive/RadioBrief/label_distribution_enhanced.png'\n",
        "        plt.savefig(plot_save_path, dpi=300) # Save with higher resolution\n",
        "        print(f\"Enhanced label distribution plot saved to: {plot_save_path}\")\n",
        "\n",
        "        plt.show()\n",
        "\n",
        "    except Exception as e:\n",
        "        print(f\"Could not generate plot: {e}\")\n",
        "else:\n",
        "    print(\"Dataset or label mapping not available for plotting.\")"
      ],
      "metadata": {
        "colab": {
          "base_uri": "https://localhost:8080/",
          "height": 828
        },
        "id": "YzeuBHMg_mE8",
        "outputId": "3f565ac7-3ef8-45e2-aabb-130148a88243"
      },
      "execution_count": null,
      "outputs": [
        {
          "output_type": "stream",
          "name": "stdout",
          "text": [
            "Visualizing label distribution for the training set...\n"
          ]
        },
        {
          "output_type": "stream",
          "name": "stderr",
          "text": [
            "<ipython-input-21-4b7191b5130f>:19: FutureWarning: \n",
            "\n",
            "Passing `palette` without assigning `hue` is deprecated and will be removed in v0.14.0. Assign the `x` variable to `hue` and set `legend=False` for the same effect.\n",
            "\n",
            "  barplot = sns.barplot(x=label_counts.index, y=label_counts.values, palette=\"viridis\") # Use integer IDs for x if using names for y later, or vice-versa\n"
          ]
        },
        {
          "output_type": "stream",
          "name": "stdout",
          "text": [
            "Enhanced label distribution plot saved to: /content/drive/MyDrive/RadioBrief/label_distribution_enhanced.png\n"
          ]
        },
        {
          "output_type": "display_data",
          "data": {
            "text/plain": [
              "<Figure size 1200x700 with 1 Axes>"
            ],
            "image/png": "[encoded data removed]"
          },
          "metadata": {}
        }
      ]
    },
    {
      "cell_type": "code",
      "source": [
        "# Cell 5: Tokenization (Adapted for new dataset)\n",
        "from transformers import AutoTokenizer\n",
        "\n",
        "# Checking if data preparation was successful and created processed_dataset_dict\n",
        "if 'processed_dataset_dict' in locals() and processed_dataset_dict:\n",
        "    print(\"Loading tokenizer...\")\n",
        "    # Use the same model checkpoint as planned before\n",
        "    model_checkpoint = \"camembert-base\"\n",
        "    try:\n",
        "        tokenizer = AutoTokenizer.from_pretrained(model_checkpoint)\n",
        "        print(f\"Tokenizer for '{model_checkpoint}' loaded.\")\n",
        "\n",
        "        # ---- MODIFIED ----\n",
        "        # Define the text column name based on inspection/Cell 4 ('text' is likely)\n",
        "        text_column_to_tokenize = 'text'\n",
        "        # ---- END MODIFIED ----\n",
        "\n",
        "        # Function to tokenize the data\n",
        "        def tokenize_function(examples):\n",
        "            # Tokenize the correct text column\n",
        "            return tokenizer(examples[text_column_to_tokenize], padding=\"max_length\", truncation=True, max_length=512)\n",
        "\n",
        "        print(f\"Tokenizing datasets using column '{text_column_to_tokenize}'...\")\n",
        "        # Apply the tokenizer function to the dataset dict\n",
        "        tokenized_datasets = processed_dataset_dict.map(tokenize_function, batched=True)\n",
        "\n",
        "        # --- MODIFIED ---\n",
        "        # Remove the original text column that was tokenized\n",
        "        columns_to_remove_after_tokenization = [text_column_to_tokenize]\n",
        "        # --- END MODIFIED ---\n",
        "\n",
        "        print(f\"Removing column: {columns_to_remove_after_tokenization}\")\n",
        "        tokenized_datasets = tokenized_datasets.remove_columns(columns_to_remove_after_tokenization)\n",
        "\n",
        "        # Rename 'label' to 'labels' which the Trainer expects\n",
        "        if 'label' in tokenized_datasets['train'].column_names:\n",
        "             print(\"Renaming 'label' column to 'labels'...\")\n",
        "             tokenized_datasets = tokenized_datasets.rename_column(\"label\", \"labels\")\n",
        "        else:\n",
        "             print(\"Column 'label' not found, assuming it's already named 'labels'.\")\n",
        "\n",
        "\n",
        "        # Set the format to 'torch' to return PyTorch tensors\n",
        "        print(\"Setting dataset format to 'torch'...\")\n",
        "        tokenized_datasets.set_format(\"torch\")\n",
        "\n",
        "        print(\"\\nTokenization complete. Final dataset structure for training:\")\n",
        "        print(tokenized_datasets)\n",
        "\n",
        "        # Check the structure of the first training sample\n",
        "        if len(tokenized_datasets['train']) > 0:\n",
        "            print(\"\\nFirst training sample (tokenized):\")\n",
        "            print(tokenized_datasets['train'][0])\n",
        "\n",
        "\n",
        "    except Exception as e:\n",
        "        print(f\"Error during tokenization: {e}\")\n",
        "        traceback.print_exc() # Print detailed traceback\n",
        "        tokenized_datasets = None # Set to None if error occurs\n",
        "else:\n",
        "    print(\"Prepared dataset dictionary not found, skipping tokenization.\")"
      ],
      "metadata": {
        "colab": {
          "base_uri": "https://localhost:8080/",
          "height": 1000,
          "referenced_widgets": [
            "a001acf867434df5ace7701c4c720488",
            "ae1a96d358c441caaac14564d3490a79",
            "7f4da0d3132940108f7a710d103a4f63",
            "4edfae9a7cd94e03ac2842945e04568e",
            "cc19c49c75534fbb9de0cdca021b1c55",
            "33ba10075b03409db854a980c466491b",
            "f83dfa84591c4917b26db4bf39110ab6",
            "75266ca203e344089d4e1fc90d6347a5",
            "2334b50856764ca8aa002b6924971513",
            "5a21c1400b534bc5a559bf56f0a4eb62",
            "9761d26993bc48658de3be6e57039a55"
          ]
        },
        "id": "-QSpE97WCqTL",
        "outputId": "0a048ecf-b641-4a5a-edf8-2d64690560e2"
      },
      "execution_count": null,
      "outputs": [
        {
          "output_type": "stream",
          "name": "stdout",
          "text": [
            "Loading tokenizer...\n",
            "Tokenizer for 'camembert-base' loaded.\n",
            "Tokenizing datasets using column 'text'...\n"
          ]
        },
        {
          "output_type": "display_data",
          "data": {
            "text/plain": [
              "Map:   0%|          | 0/211 [00:00<?, ? examples/s]"
            ],
            "application/vnd.jupyter.widget-view+json": {
              "version_major": 2,
              "version_minor": 0,
              "model_id": "a001acf867434df5ace7701c4c720488"
            }
          },
          "metadata": {}
        },
        {
          "output_type": "stream",
          "name": "stdout",
          "text": [
            "Removing column: ['text']\n",
            "Renaming 'label' column to 'labels'...\n",
            "Setting dataset format to 'torch'...\n",
            "\n",
            "Tokenization complete. Final dataset structure for training:\n",
            "DatasetDict({\n",
            "    train: Dataset({\n",
            "        features: ['labels', 'input_ids', 'attention_mask'],\n",
            "        num_rows: 1476\n",
            "    })\n",
            "    eval: Dataset({\n",
            "        features: ['labels', 'input_ids', 'attention_mask'],\n",
            "        num_rows: 211\n",
            "    })\n",
            "    test: Dataset({\n",
            "        features: ['labels', 'input_ids', 'attention_mask'],\n",
            "        num_rows: 422\n",
            "    })\n",
            "})\n",
            "\n",
            "First training sample (tokenized):\n",
            "{'labels': tensor(5), 'input_ids': tensor([    5,    71,    11, 30248,     7,  3625, 10037,    35,    36,  2434,\n",
            "        21777,    16,   181,   871,  4363,     7,    33,   997,   101,    17,\n",
            "           11,    70,    20,  1640,  1809,    25,  5822, 10088,    15,    52,\n",
            "           11,  6295,   542,    18,    11,    70,  8974,     9,  2690,    58,\n",
            "          246,  1136,  2711, 16338,    16,   124,   108,   667, 26374,     7,\n",
            "           16,   256,    30,    17,    11,    70,    20,    40, 23715,    10,\n",
            "           15,    13,  2660,    18,    11,  2582,    20,  5542,     9,   139,\n",
            "          997,     7,    22, 14676,     7,    17,    11, 30248,   171,  3818,\n",
            "           15,    13,   181,    35,   218,     8,    13, 15110,     9,  1420,\n",
            "            7,    51,    33,   355,  1252,    10,  7263,   141,     8,    95,\n",
            "         9714, 20759,   461,    15,    89,  8243,     9,  1332,    99,    92,\n",
            "           21, 30248,    92,   363, 22201,   281, 21340,   180,  6145,     8,\n",
            "        21789,    10,  3714,    10,    29,    23,  4178,  6624,   857,    32,\n",
            "           16,  2998,  6958,    54,   417,   742, 17786,    17,    11, 30248,\n",
            "           48,    82,  7723,    37,    17,    11, 15366,    32,    16,  3856,\n",
            "            8,   260,  4991,     9,    71,    11,   801,  9129,    13,    93,\n",
            "         6296,    16,  1170,   742,  6472,   461,    15,    13,  5716,     9,\n",
            "         2972,     7,    40,   735,    27, 29327,     7,    17,    11, 30248,\n",
            "           33,    13, 15058,   330,    26,   244,    32,    16,  3856,     8,\n",
            "          239,  2991,     7,    77,    40,  1071,  1986,     7,    16,   419,\n",
            "          753,  5268,     9,    74, 20591,    80,    96,  3858,    15,  1638,\n",
            "        10008,  1879,    10,     8,  2660,    18,    11,  2582,    20,  5542,\n",
            "          174,    28,  1879,  8901,    22,  8392,   466,    16, 21949,     7,\n",
            "          256, 23375,     7,    32,    16,  3856,     8,   118,  4991,     9,\n",
            "           54,   476,   697,  8392,    36, 21949,     7,    17,    11, 30248,\n",
            "          171, 27470,    16, 29339,    32,    16,  3856,     8,   118,  2991,\n",
            "           38,  7955,    10,     8,  2034,    10,  3879,    14,     8, 14236,\n",
            "           88,  1060,   120,    71,    11, 13872,    47,  4803,   204,   480,\n",
            "        14236,    88,  1060,   149,  4485,   528, 21481,     8,    13, 15110,\n",
            "           42,   181,  5316,   466,    17,    11, 30248,   418,  4323,  1343,\n",
            "          744,  3700,  5316,   142,    16,   361,  3143,   141,    90,   114,\n",
            "          427,   233,   105,   521,  3700,  5316,    53,    14,    16, 29339,\n",
            "          255, 10338,  7621,   442,  2900,  3700,  5316,   120,  1332,    99,\n",
            "           92,   153,  1136,     8,  2660,    25,   164,  9863,    35,    36,\n",
            "         6888,    22,    21, 30248,    71,    11, 30248,    33,  5500,   476,\n",
            "          151,    13,    84,  4801, 28230,    13,  1959,    20,   256,    18,\n",
            "           11,  2582,  2405,    14,    18,    11,  2582,     8,    17,    11,\n",
            "         2806,     9,    69,    30,   405,    11,   265,  3014,    37,    58,\n",
            "        17444, 20244,   427,  2842, 24610,    31,  8600,   176,  1335,    15,\n",
            "           17,    11,   801,     8,    17,    11,  2092,     8,  8666, 20191,\n",
            "           22,  2971,    25,  1365,     9,    54,  1170,   753,  3164,    16,\n",
            "          430,  8721,   363, 22201,     7,  1808,  8057,   601,     8,    17,\n",
            "           11, 24058,   228,  2327,  9390,   636,    22,  3627,    18,    11,\n",
            "         8373,     7,    25, 20151,  4664,     8,  4984,   308,    55,    36,\n",
            "         9834,    14,     8,    17,    11, 31226,     8, 15676,     7,    30,\n",
            "         2886, 21340,     8,    17,    11, 30248,     9,    54,   430,    33,\n",
            "         5500,   247, 12081,    10,  6310,    14,  5822,   483,    22,  1046,\n",
            "            9,    71,    11, 30248,    33,   101,   373,  4153,    79,    13,\n",
            "         1058,   815, 10610,     8,    17,    11,   520,   552,    29,    16,\n",
            "        21432, 18208,     9,    69,    52,    11,    41,  6903,    24,    13,\n",
            "        15110,  4363,   564,    13,   205,    35,   553,    20, 27875,    10,\n",
            "           22,     6]), 'attention_mask': tensor([1, 1, 1, 1, 1, 1, 1, 1, 1, 1, 1, 1, 1, 1, 1, 1, 1, 1, 1, 1, 1, 1, 1, 1,\n",
            "        1, 1, 1, 1, 1, 1, 1, 1, 1, 1, 1, 1, 1, 1, 1, 1, 1, 1, 1, 1, 1, 1, 1, 1,\n",
            "        1, 1, 1, 1, 1, 1, 1, 1, 1, 1, 1, 1, 1, 1, 1, 1, 1, 1, 1, 1, 1, 1, 1, 1,\n",
            "        1, 1, 1, 1, 1, 1, 1, 1, 1, 1, 1, 1, 1, 1, 1, 1, 1, 1, 1, 1, 1, 1, 1, 1,\n",
            "        1, 1, 1, 1, 1, 1, 1, 1, 1, 1, 1, 1, 1, 1, 1, 1, 1, 1, 1, 1, 1, 1, 1, 1,\n",
            "        1, 1, 1, 1, 1, 1, 1, 1, 1, 1, 1, 1, 1, 1, 1, 1, 1, 1, 1, 1, 1, 1, 1, 1,\n",
            "        1, 1, 1, 1, 1, 1, 1, 1, 1, 1, 1, 1, 1, 1, 1, 1, 1, 1, 1, 1, 1, 1, 1, 1,\n",
            "        1, 1, 1, 1, 1, 1, 1, 1, 1, 1, 1, 1, 1, 1, 1, 1, 1, 1, 1, 1, 1, 1, 1, 1,\n",
            "        1, 1, 1, 1, 1, 1, 1, 1, 1, 1, 1, 1, 1, 1, 1, 1, 1, 1, 1, 1, 1, 1, 1, 1,\n",
            "        1, 1, 1, 1, 1, 1, 1, 1, 1, 1, 1, 1, 1, 1, 1, 1, 1, 1, 1, 1, 1, 1, 1, 1,\n",
            "        1, 1, 1, 1, 1, 1, 1, 1, 1, 1, 1, 1, 1, 1, 1, 1, 1, 1, 1, 1, 1, 1, 1, 1,\n",
            "        1, 1, 1, 1, 1, 1, 1, 1, 1, 1, 1, 1, 1, 1, 1, 1, 1, 1, 1, 1, 1, 1, 1, 1,\n",
            "        1, 1, 1, 1, 1, 1, 1, 1, 1, 1, 1, 1, 1, 1, 1, 1, 1, 1, 1, 1, 1, 1, 1, 1,\n",
            "        1, 1, 1, 1, 1, 1, 1, 1, 1, 1, 1, 1, 1, 1, 1, 1, 1, 1, 1, 1, 1, 1, 1, 1,\n",
            "        1, 1, 1, 1, 1, 1, 1, 1, 1, 1, 1, 1, 1, 1, 1, 1, 1, 1, 1, 1, 1, 1, 1, 1,\n",
            "        1, 1, 1, 1, 1, 1, 1, 1, 1, 1, 1, 1, 1, 1, 1, 1, 1, 1, 1, 1, 1, 1, 1, 1,\n",
            "        1, 1, 1, 1, 1, 1, 1, 1, 1, 1, 1, 1, 1, 1, 1, 1, 1, 1, 1, 1, 1, 1, 1, 1,\n",
            "        1, 1, 1, 1, 1, 1, 1, 1, 1, 1, 1, 1, 1, 1, 1, 1, 1, 1, 1, 1, 1, 1, 1, 1,\n",
            "        1, 1, 1, 1, 1, 1, 1, 1, 1, 1, 1, 1, 1, 1, 1, 1, 1, 1, 1, 1, 1, 1, 1, 1,\n",
            "        1, 1, 1, 1, 1, 1, 1, 1, 1, 1, 1, 1, 1, 1, 1, 1, 1, 1, 1, 1, 1, 1, 1, 1,\n",
            "        1, 1, 1, 1, 1, 1, 1, 1, 1, 1, 1, 1, 1, 1, 1, 1, 1, 1, 1, 1, 1, 1, 1, 1,\n",
            "        1, 1, 1, 1, 1, 1, 1, 1])}\n"
          ]
        }
      ]
    },
    {
      "cell_type": "code",
      "source": [
        "# Cell 6: Loading Pre-trained Model\n",
        "from transformers import AutoModelForSequenceClassification\n",
        "\n",
        "if tokenized_datasets: # Check if tokenization was successful\n",
        "    print(f\"Loading pre-trained model '{model_checkpoint}' for sequence classification...\")\n",
        "    try:\n",
        "        model = AutoModelForSequenceClassification.from_pretrained(\n",
        "            model_checkpoint,\n",
        "            num_labels=num_labels, # Tell the model how many output classes (topics) we have\n",
        "            id2label=id2label,     # Pass the ID to label mapping (for nice output)\n",
        "            label2id=label2id      # Pass the label to ID mapping\n",
        "        )\n",
        "        print(\"Model loaded successfully.\")\n",
        "        # Check if GPU is available and move model to GPU\n",
        "        import torch\n",
        "        device = torch.device(\"cuda\" if torch.cuda.is_available() else \"cpu\")\n",
        "        model.to(device)\n",
        "        print(f\"Model moved to device: {device}\")\n",
        "\n",
        "    except Exception as e:\n",
        "        print(f\"Error loading model: {e}\")\n",
        "        model = None # Set to None if error occurs\n",
        "else:\n",
        "    print(\"Tokenized datasets not found, skipping model loading.\")"
      ],
      "metadata": {
        "colab": {
          "base_uri": "https://localhost:8080/",
          "height": 156,
          "referenced_widgets": [
            "a3351260d21e4678bc7c3526a4fd22a0",
            "20902a340afe4ccd8a50ed975e442da3",
            "c30a69d018724f3f80daaa3b55f234f4",
            "4465d711e5b14bc8aec4b153ef81fa08",
            "49dc77c9d79e44928f432dbcf5d67cfb",
            "b4497728d21848e1b5049249bad0b108",
            "7b9a4c308a4443e5baeaeab3a2f22c19",
            "7aa3844617334a8b92dd057cb525a90e",
            "1b7edc1960fa40c1ba94ed2f214c0c9f",
            "dfd045fb112f48e5b3bd07592f4a0b16",
            "35e3bf06a270498d95e0c7ed1073f3b2"
          ]
        },
        "id": "Oze7s-zqCvAp",
        "outputId": "7587fe21-08eb-4089-bec6-b52a5f870cc3"
      },
      "execution_count": null,
      "outputs": [
        {
          "output_type": "stream",
          "name": "stdout",
          "text": [
            "Loading pre-trained model 'camembert-base' for sequence classification...\n"
          ]
        },
        {
          "output_type": "display_data",
          "data": {
            "text/plain": [
              "model.safetensors:   0%|          | 0.00/445M [00:00<?, ?B/s]"
            ],
            "application/vnd.jupyter.widget-view+json": {
              "version_major": 2,
              "version_minor": 0,
              "model_id": "a3351260d21e4678bc7c3526a4fd22a0"
            }
          },
          "metadata": {}
        },
        {
          "output_type": "stream",
          "name": "stderr",
          "text": [
            "Some weights of CamembertForSequenceClassification were not initialized from the model checkpoint at camembert-base and are newly initialized: ['classifier.dense.bias', 'classifier.dense.weight', 'classifier.out_proj.bias', 'classifier.out_proj.weight']\n",
            "You should probably TRAIN this model on a down-stream task to be able to use it for predictions and inference.\n"
          ]
        },
        {
          "output_type": "stream",
          "name": "stdout",
          "text": [
            "Model loaded successfully.\n",
            "Model moved to device: cuda\n"
          ]
        }
      ]
    },
    {
      "cell_type": "code",
      "source": [
        "# Cell 7: Defining Training Arguments (Modified for Compatibility)\n",
        "from transformers import TrainingArguments\n",
        "\n",
        "print(\"Defining training arguments (using compatible arguments)...\")\n",
        "# Define where to save checkpoints, logs, etc.\n",
        "output_directory = \"/content/drive/MyDrive/RadioBrief/finetune-results\" # Save results in Drive\n",
        "\n",
        "# training_args = TrainingArguments(\n",
        "#     output_dir=output_directory,\n",
        "#     num_train_epochs=2,              # Number of times to go through the training data\n",
        "#     per_device_train_batch_size=8,   # Training batch size\n",
        "#     per_device_eval_batch_size=16,   # Evaluation batch size\n",
        "#     warmup_steps=100,                # Learning rate warmup\n",
        "#     weight_decay=0.01,               # Weight decay regularization\n",
        "#     logging_dir=f'{output_directory}/logs', # Directory for TensorBoard logs\n",
        "#     logging_strategy=\"epoch\",        # Log metrics at the end of each epoch\n",
        "#     evaluation_strategy=\"epoch\",     # << RENAMED - Evaluate at the end of each epoch (Correction: Use same name based on user's error below)\n",
        "#     save_strategy=\"epoch\",           # << RENAMED - Save model checkpoint at the end of each epoch\n",
        "#     load_best_model_at_end=True,     # Try keeping this, might depend on strategies\n",
        "#     metric_for_best_model=\"accuracy\",# Use accuracy to determine the best model\n",
        "#     greater_is_better=True,          # Higher accuracy is better\n",
        "#     report_to=\"none\",                # Disable external reporting\n",
        "# )\n",
        "\n",
        "# --- OLDER COMPATIBILITY FIX (If the above rename fails again) ---\n",
        "training_args = TrainingArguments(\n",
        "    output_dir=output_directory,\n",
        "    num_train_epochs=2,\n",
        "    per_device_train_batch_size=8,\n",
        "    per_device_eval_batch_size=16,\n",
        "    warmup_steps=100,\n",
        "    weight_decay=0.01,\n",
        "    logging_dir=f'{output_directory}/logs',\n",
        "    logging_steps=50,  # Log every 50 steps\n",
        "    save_steps=500,    # Save checkpoint every 500 steps (adjust as needed)\n",
        "    eval_steps=500,    # Evaluate every 500 steps (adjust as needed) - Align with save_steps maybe?\n",
        "    # evaluate_during_training=True, # Use this for older versions instead of strategy args\n",
        "    report_to=\"none\",\n",
        ")\n",
        "# --- END OLDER COMPATIBILITY FIX ---\n",
        "\n",
        "\n",
        "print(\"Training arguments defined.\")\n",
        "# print(training_args) # Optionally print to see all arguments"
      ],
      "metadata": {
        "colab": {
          "base_uri": "https://localhost:8080/"
        },
        "id": "-cubeQctCzyL",
        "outputId": "e50b3721-4d01-4257-f76e-eff03a5abf5d"
      },
      "execution_count": null,
      "outputs": [
        {
          "output_type": "stream",
          "name": "stdout",
          "text": [
            "Defining training arguments (using compatible arguments)...\n",
            "Training arguments defined.\n"
          ]
        }
      ]
    },
    {
      "cell_type": "code",
      "source": [
        "# Cell 8: Defining Evaluation Metric (Accuracy)\n",
        "import numpy as np\n",
        "import evaluate # Uses the 'evaluate' library installed earlier\n",
        "\n",
        "if model: # Check if model loaded\n",
        "    print(\"Loading accuracy metric...\")\n",
        "    try:\n",
        "        metric = evaluate.load(\"accuracy\")\n",
        "        print(\"Accuracy metric loaded.\")\n",
        "\n",
        "        # Function to compute metrics during evaluation\n",
        "        def compute_metrics(eval_pred):\n",
        "            logits, labels = eval_pred # The trainer provides model outputs (logits) and true labels\n",
        "            predictions = np.argmax(logits, axis=-1) # Get the class with the highest probability\n",
        "            return metric.compute(predictions=predictions, references=labels) # Calculate accuracy\n",
        "\n",
        "        print(\"Compute metrics function defined.\")\n",
        "    except Exception as e:\n",
        "        print(f\"Error loading accuracy metric: {e}\")\n",
        "        compute_metrics = None # Set to None if error occurs\n",
        "else:\n",
        "    print(\"Model not loaded, skipping metric definition.\")"
      ],
      "metadata": {
        "colab": {
          "base_uri": "https://localhost:8080/",
          "height": 101,
          "referenced_widgets": [
            "c512b49a21474cefb325e8dea6729c49",
            "c411d6e07e5f4111aab2e12b0d4d9017",
            "60cea6865ceb47d49d006c946192297c",
            "b5ae83c04f254fb2b0627a755440b754",
            "65c3cfa1261840cb81db50af12cd7663",
            "ed857ac42acb4bdc96dc2aa7c816e240",
            "0918c23d015f4dac985bd227025aa9dc",
            "79e5776fd67d4efcb16f368923765987",
            "af530b659a5648b79e7a56043b8071eb",
            "1e271d2bec34459fabe9c0002069d097",
            "e53f72c11a474f25bae7e26f3aafbc17"
          ]
        },
        "id": "tgPwQv-dC0k8",
        "outputId": "d1b95c83-d6da-4f26-b6e2-af57718e272e"
      },
      "execution_count": null,
      "outputs": [
        {
          "output_type": "stream",
          "name": "stdout",
          "text": [
            "Loading accuracy metric...\n"
          ]
        },
        {
          "output_type": "display_data",
          "data": {
            "text/plain": [
              "Downloading builder script:   0%|          | 0.00/4.20k [00:00<?, ?B/s]"
            ],
            "application/vnd.jupyter.widget-view+json": {
              "version_major": 2,
              "version_minor": 0,
              "model_id": "c512b49a21474cefb325e8dea6729c49"
            }
          },
          "metadata": {}
        },
        {
          "output_type": "stream",
          "name": "stdout",
          "text": [
            "Accuracy metric loaded.\n",
            "Compute metrics function defined.\n"
          ]
        }
      ]
    },
    {
      "cell_type": "code",
      "source": [
        "# Cell 9: Initializing Trainer\n",
        "from transformers import Trainer\n",
        "\n",
        "# Check if all components are ready\n",
        "if model and training_args and tokenized_datasets and tokenizer and compute_metrics:\n",
        "    print(\"Initializing Trainer...\")\n",
        "    trainer = Trainer(\n",
        "        model=model,                         # The model to fine-tune\n",
        "        args=training_args,                  # Training configuration\n",
        "        train_dataset=tokenized_datasets[\"train\"], # Training data\n",
        "        eval_dataset=tokenized_datasets[\"eval\"],   # Evaluation data\n",
        "        tokenizer=tokenizer,                 # Tokenizer (for padding consistency)\n",
        "        compute_metrics=compute_metrics      # Function to calculate metrics\n",
        "    )\n",
        "    print(\"Trainer initialized.\")\n",
        "else:\n",
        "    print(\"Cannot initialize Trainer. One or more components are missing (check previous cells for errors).\")\n",
        "    trainer = None"
      ],
      "metadata": {
        "colab": {
          "base_uri": "https://localhost:8080/"
        },
        "id": "ZtiKLqnAC4Lv",
        "outputId": "8048f3cf-c952-42ed-b6a3-f77e99c1fbbf"
      },
      "execution_count": null,
      "outputs": [
        {
          "output_type": "stream",
          "name": "stdout",
          "text": [
            "Initializing Trainer...\n"
          ]
        },
        {
          "output_type": "stream",
          "name": "stderr",
          "text": [
            "<ipython-input-8-0d3daab45077>:7: FutureWarning: `tokenizer` is deprecated and will be removed in version 5.0.0 for `Trainer.__init__`. Use `processing_class` instead.\n",
            "  trainer = Trainer(\n"
          ]
        },
        {
          "output_type": "stream",
          "name": "stdout",
          "text": [
            "Trainer initialized.\n"
          ]
        }
      ]
    },
    {
      "cell_type": "code",
      "source": [
        "# Cell 10: Starting Fine-Tuning\n",
        "if trainer: # Check if Trainer was initialized\n",
        "    print(\"\\n--- Starting Fine-Tuning ---\")\n",
        "    try:\n",
        "        trainer.train()\n",
        "        print(\"\\n--- Fine-Tuning Finished ---\")\n",
        "    except Exception as e:\n",
        "        print(f\"\\n❌ Error during training: {e}\")\n",
        "        traceback.print_exc() # Print detailed traceback if error occurs\n",
        "else:\n",
        "    print(\"Trainer not initialized, skipping training.\")"
      ],
      "metadata": {
        "colab": {
          "base_uri": "https://localhost:8080/",
          "height": 364
        },
        "id": "8juIRCLSC7Qq",
        "outputId": "0a4b0636-d320-46c1-fde7-d3a5ca3d335f"
      },
      "execution_count": null,
      "outputs": [
        {
          "output_type": "stream",
          "name": "stdout",
          "text": [
            "\n",
            "--- Starting Fine-Tuning ---\n"
          ]
        },
        {
          "output_type": "display_data",
          "data": {
            "text/plain": [
              "<IPython.core.display.HTML object>"
            ],
            "text/html": [
              "\n",
              "    <div>\n",
              "      \n",
              "      <progress value='370' max='370' style='width:300px; height:20px; vertical-align: middle;'></progress>\n",
              "      [370/370 01:05, Epoch 2/2]\n",
              "    </div>\n",
              "    <table border=\"1\" class=\"dataframe\">\n",
              "  <thead>\n",
              " <tr style=\"text-align: left;\">\n",
              "      <th>Step</th>\n",
              "      <th>Training Loss</th>\n",
              "    </tr>\n",
              "  </thead>\n",
              "  <tbody>\n",
              "    <tr>\n",
              "      <td>50</td>\n",
              "      <td>1.845600</td>\n",
              "    </tr>\n",
              "    <tr>\n",
              "      <td>100</td>\n",
              "      <td>1.526300</td>\n",
              "    </tr>\n",
              "    <tr>\n",
              "      <td>150</td>\n",
              "      <td>0.884000</td>\n",
              "    </tr>\n",
              "    <tr>\n",
              "      <td>200</td>\n",
              "      <td>0.575600</td>\n",
              "    </tr>\n",
              "    <tr>\n",
              "      <td>250</td>\n",
              "      <td>0.494100</td>\n",
              "    </tr>\n",
              "    <tr>\n",
              "      <td>300</td>\n",
              "      <td>0.378900</td>\n",
              "    </tr>\n",
              "    <tr>\n",
              "      <td>350</td>\n",
              "      <td>0.428300</td>\n",
              "    </tr>\n",
              "  </tbody>\n",
              "</table><p>"
            ]
          },
          "metadata": {}
        },
        {
          "output_type": "stream",
          "name": "stdout",
          "text": [
            "\n",
            "--- Fine-Tuning Finished ---\n"
          ]
        }
      ]
    },
    {
      "cell_type": "code",
      "source": [
        "# Cell 11: Evaluating Model\n",
        "if trainer:\n",
        "    print(\"\\n--- Evaluating Model on Validation Set ---\")\n",
        "    try:\n",
        "        eval_results = trainer.evaluate()\n",
        "        print(\"\\nEvaluation Results:\")\n",
        "        print(eval_results)\n",
        "    except Exception as e:\n",
        "        print(f\"\\n---- Error during evaluation: {e}\")\n",
        "else:\n",
        "    print(\"Trainer not available, skipping evaluation.\")"
      ],
      "metadata": {
        "colab": {
          "base_uri": "https://localhost:8080/",
          "height": 124
        },
        "id": "YtBUCkTXC-9F",
        "outputId": "5d3c4f9e-41ca-44c8-e1b2-52fd1920458c"
      },
      "execution_count": null,
      "outputs": [
        {
          "output_type": "stream",
          "name": "stdout",
          "text": [
            "\n",
            "--- Evaluating Model on Validation Set ---\n"
          ]
        },
        {
          "output_type": "display_data",
          "data": {
            "text/plain": [
              "<IPython.core.display.HTML object>"
            ],
            "text/html": [
              "\n",
              "    <div>\n",
              "      \n",
              "      <progress value='14' max='14' style='width:300px; height:20px; vertical-align: middle;'></progress>\n",
              "      [14/14 00:01]\n",
              "    </div>\n",
              "    "
            ]
          },
          "metadata": {}
        },
        {
          "output_type": "stream",
          "name": "stdout",
          "text": [
            "\n",
            "Evaluation Results:\n",
            "{'eval_loss': 0.32918137311935425, 'eval_accuracy': 0.909952606635071, 'eval_runtime': 1.4207, 'eval_samples_per_second': 148.518, 'eval_steps_per_second': 9.854, 'epoch': 2.0}\n"
          ]
        }
      ]
    },
    {
      "cell_type": "markdown",
      "source": [
        "Interpretation:\n",
        "\n",
        "eval_accuracy: 0.90995... (~91.0%) This is the key result. It means the fine-tuned model correctly predicted the topic category for about 91% of the articles in the MasakhaNEWS validation set. This is a very good accuracy for a text classification task, especially after only 2 epochs of fine-tuning!\n",
        "\n",
        "eval_loss: 0.329 This loss value is significantly lower than the previous run (which was ~1.98), indicating the model is much more confident and accurate in its predictions on the validation data.\n",
        "\n",
        "Impact of Data: This clearly shows the huge difference using a larger, relevant dataset makes! Going from 15 samples to the ~1500 in the MasakhaNEWS training set allowed the model to learn effectively."
      ],
      "metadata": {
        "id": "jRYgpmrp3UCE"
      }
    },
    {
      "cell_type": "code",
      "source": [
        "# Cell 11.1: Generating and Plot Confusion Matrix\n",
        "from sklearn.metrics import confusion_matrix, ConfusionMatrixDisplay\n",
        "import numpy as np\n",
        "import matplotlib.pyplot as plt\n",
        "\n",
        "if 'trainer' in locals() and trainer and 'tokenized_datasets' in locals() and 'id2label' in locals():\n",
        "    print(\"Generating predictions for confusion matrix...\")\n",
        "    try:\n",
        "        # Get predictions on the evaluation set\n",
        "        predictions_output = trainer.predict(tokenized_datasets[\"eval\"])\n",
        "        y_pred = np.argmax(predictions_output.predictions, axis=1)\n",
        "        y_true = predictions_output.label_ids\n",
        "\n",
        "        # Get label names IN THE ORDER OF THEIR IDS (0, 1, 2...)\n",
        "        labels_ordered = [id2label[i] for i in range(num_labels)]\n",
        "\n",
        "        # Calculate confusion matrix\n",
        "        cm = confusion_matrix(y_true, y_pred, labels=list(range(num_labels)))\n",
        "\n",
        "        # Plot using ConfusionMatrixDisplay\n",
        "        print(\"Plotting confusion matrix...\")\n",
        "        fig, ax = plt.subplots(figsize=(8, 8)) # Adjust size as needed\n",
        "        disp = ConfusionMatrixDisplay(confusion_matrix=cm, display_labels=labels_ordered)\n",
        "        disp.plot(cmap='Blues', ax=ax, xticks_rotation='vertical') # Use 'Blues' colormap, rotate x labels\n",
        "\n",
        "        plt.title('Confusion Matrix for Fine-Tuned Model (Validation Set)', fontsize=14)\n",
        "        plt.tight_layout()\n",
        "\n",
        "        # Save the plot\n",
        "        cm_save_path = '/content/drive/MyDrive/RadioBrief/confusion_matrix.png'\n",
        "        plt.savefig(cm_save_path, dpi=300)\n",
        "        print(f\"Confusion matrix plot saved to: {cm_save_path}\")\n",
        "\n",
        "        plt.show()\n",
        "\n",
        "    except Exception as e:\n",
        "        print(f\"Could not generate confusion matrix: {e}\")\n",
        "        import traceback\n",
        "        traceback.print_exc()\n",
        "else:\n",
        "    print(\"Trainer, datasets, or labels not available for confusion matrix.\")"
      ],
      "metadata": {
        "colab": {
          "base_uri": "https://localhost:8080/",
          "height": 825
        },
        "id": "-KDHfFK4CsLF",
        "outputId": "806888a0-2e3c-493a-ebb5-7352ef379001"
      },
      "execution_count": null,
      "outputs": [
        {
          "output_type": "stream",
          "name": "stdout",
          "text": [
            "Generating predictions for confusion matrix...\n"
          ]
        },
        {
          "output_type": "display_data",
          "data": {
            "text/plain": [
              "<IPython.core.display.HTML object>"
            ],
            "text/html": []
          },
          "metadata": {}
        },
        {
          "output_type": "stream",
          "name": "stdout",
          "text": [
            "Plotting confusion matrix...\n",
            "Confusion matrix plot saved to: /content/drive/MyDrive/RadioBrief/confusion_matrix.png\n"
          ]
        },
        {
          "output_type": "display_data",
          "data": {
            "text/plain": [
              "<Figure size 800x800 with 2 Axes>"
            ],
            "image/png": "[encoded data removed]"
          },
          "metadata": {}
        }
      ]
    },
    {
      "cell_type": "code",
      "source": [
        "# Cell 11.2: Plot Training & Validation Loss\n",
        "import matplotlib.pyplot as plt\n",
        "import pandas as pd\n",
        "\n",
        "if 'trainer' in locals() and trainer and hasattr(trainer, 'state') and trainer.state.log_history:\n",
        "    print(\"Plotting training and validation loss curves...\")\n",
        "    try:\n",
        "        log_history = trainer.state.log_history\n",
        "\n",
        "        # Separate training and evaluation logs\n",
        "        training_logs = [log for log in log_history if 'loss' in log]\n",
        "        eval_logs = [log for log in log_history if 'eval_loss' in log]\n",
        "\n",
        "        # Create DataFrames for easier plotting\n",
        "        df_train = pd.DataFrame(training_logs)\n",
        "        df_eval = pd.DataFrame(eval_logs)\n",
        "\n",
        "        plt.style.use('seaborn-v0_8-whitegrid')\n",
        "        plt.figure(figsize=(10, 6))\n",
        "\n",
        "        # Plot training loss\n",
        "        if 'loss' in df_train.columns and 'step' in df_train.columns:\n",
        "            plt.plot(df_train['step'], df_train['loss'], label='Training Loss', marker='o', linestyle='--')\n",
        "\n",
        "        # Plot evaluation loss\n",
        "        if 'eval_loss' in df_eval.columns and 'step' in df_eval.columns:\n",
        "             # Use steps from eval logs if available, otherwise align with epochs\n",
        "             eval_steps = df_eval.get('step', df_eval.get('epoch', []) * (df_train['step'].max()/df_eval['epoch'].max() if 'epoch' in df_eval and df_eval['epoch'].max() > 0 else 1)) # Estimate steps if needed\n",
        "             plt.plot(eval_steps, df_eval['eval_loss'], label='Validation Loss', marker='o')\n",
        "\n",
        "        plt.title('Training and Validation Loss Over Steps/Epochs', fontsize=14)\n",
        "        plt.xlabel('Training Steps', fontsize=12)\n",
        "        plt.ylabel('Loss', fontsize=12)\n",
        "        plt.legend()\n",
        "        plt.grid(True)\n",
        "        plt.tight_layout()\n",
        "\n",
        "        # Save the plot\n",
        "        loss_curve_save_path = '/content/drive/MyDrive/RadioBrief/loss_curves.png'\n",
        "        plt.savefig(loss_curve_save_path, dpi=300)\n",
        "        print(f\"Loss curves plot saved to: {loss_curve_save_path}\")\n",
        "\n",
        "        plt.show()\n",
        "\n",
        "    except Exception as e:\n",
        "        print(f\"Could not generate loss curves: {e}\")\n",
        "        import traceback\n",
        "        traceback.print_exc()\n",
        "\n",
        "else:\n",
        "    print(\"Trainer state or log history not available for plotting loss curves.\")"
      ],
      "metadata": {
        "colab": {
          "base_uri": "https://localhost:8080/",
          "height": 642
        },
        "id": "XoxgjYXGC2Kn",
        "outputId": "46cb3041-6edb-4e93-e09c-963146dd126b"
      },
      "execution_count": null,
      "outputs": [
        {
          "output_type": "stream",
          "name": "stdout",
          "text": [
            "Plotting training and validation loss curves...\n",
            "Loss curves plot saved to: /content/drive/MyDrive/RadioBrief/loss_curves.png\n"
          ]
        },
        {
          "output_type": "display_data",
          "data": {
            "text/plain": [
              "<Figure size 1000x600 with 1 Axes>"
            ],
            "image/png": "[encoded data removed]"
          },
          "metadata": {}
        }
      ]
    },
    {
      "cell_type": "code",
      "source": [
        "# Optional\n",
        "# Cell 12: Saving Fine-tuned Model\n",
        "if trainer:\n",
        "    print(\"\\n--- Saving Fine-tuned Model ---\")\n",
        "    save_directory = f\"{training_args.output_dir}/final_model\" # Save in a subfolder\n",
        "    try:\n",
        "        trainer.save_model(save_directory)\n",
        "        tokenizer.save_pretrained(save_directory) # Save tokenizer alongside model\n",
        "        print(f\"Model and tokenizer saved to: {save_directory}\")\n",
        "    except Exception as e:\n",
        "        print(f\"Error saving model: {e}\")\n",
        "else:\n",
        "    print(\"Trainer not available, skipping model saving.\")"
      ],
      "metadata": {
        "colab": {
          "base_uri": "https://localhost:8080/"
        },
        "id": "Cq44GysDDEiN",
        "outputId": "6bcb5c25-f3ae-403e-d1d8-79d030170f9b"
      },
      "execution_count": null,
      "outputs": [
        {
          "output_type": "stream",
          "name": "stdout",
          "text": [
            "\n",
            "--- Saving Fine-tuned Model ---\n",
            "Model and tokenizer saved to: /content/drive/MyDrive/RadioBrief/finetune-results/final_model\n"
          ]
        }
      ]
    },
    {
      "cell_type": "code",
      "source": [
        "# Optional\n",
        "# Cell 13: Testing Inference with Fine-tuned Model\n",
        "import os\n",
        "from transformers import pipeline\n",
        "import torch\n",
        "\n",
        "# Use the directory where the final model was saved\n",
        "fine_tuned_model_path = f\"{training_args.output_dir}/final_model\"\n",
        "\n",
        "if os.path.exists(fine_tuned_model_path):\n",
        "    print(f\"Loading fine-tuned model from {fine_tuned_model_path} for inference...\")\n",
        "    try:\n",
        "        # Load the fine-tuned model and tokenizer using a pipeline\n",
        "        # Specify the task and the device (GPU if available)\n",
        "        device = 0 if torch.cuda.is_available() else -1\n",
        "        topic_classifier_finetuned = pipeline(\n",
        "            \"text-classification\",\n",
        "            model=fine_tuned_model_path,\n",
        "            tokenizer=fine_tuned_model_path,\n",
        "            device=device\n",
        "        )\n",
        "        print(\"Fine-tuned pipeline loaded.\")\n",
        "\n",
        "        # Example text\n",
        "        test_text = \"Le président a rencontré les syndicats pour discuter de l'économie.\"\n",
        "        print(f\"\\nClassifying test text: '{test_text}'\")\n",
        "\n",
        "        # Get prediction - note: output format might be slightly different\n",
        "        # It might return label directly or a list of labels/scores\n",
        "        prediction = topic_classifier_finetuned(test_text)\n",
        "\n",
        "        print(\"\\nPrediction Result:\")\n",
        "        print(prediction)\n",
        "\n",
        "        # Example of how to extract top label if needed (depends on pipeline output format)\n",
        "        # top_label = prediction[0]['label']\n",
        "        # top_score = prediction[0]['score']\n",
        "        # print(f\"Predicted Topic: {top_label} (Score: {top_score:.4f})\")\n",
        "\n",
        "    except Exception as e:\n",
        "        print(f\"Error loading or using fine-tuned model for inference: {e}\")\n",
        "else:\n",
        "    print(f\"Fine-tuned model not found at {fine_tuned_model_path}, cannot run inference test.\")\n",
        "    print(\"(Ensure Step 10 was run successfully and check the path).\")"
      ],
      "metadata": {
        "colab": {
          "base_uri": "https://localhost:8080/"
        },
        "id": "EJDujLB1DGkr",
        "outputId": "0feffd03-58c9-4207-e890-7b1aa83c4177"
      },
      "execution_count": null,
      "outputs": [
        {
          "output_type": "stream",
          "name": "stdout",
          "text": [
            "Loading fine-tuned model from /content/drive/MyDrive/RadioBrief/finetune-results/final_model for inference...\n"
          ]
        },
        {
          "output_type": "stream",
          "name": "stderr",
          "text": [
            "Device set to use cuda:0\n"
          ]
        },
        {
          "output_type": "stream",
          "name": "stdout",
          "text": [
            "Fine-tuned pipeline loaded.\n",
            "\n",
            "Classifying test text: 'Le président a rencontré les syndicats pour discuter de l'économie.'\n",
            "\n",
            "Prediction Result:\n",
            "[{'label': 'business', 'score': 0.8044686913490295}]\n"
          ]
        }
      ]
    },
    {
      "cell_type": "markdown",
      "source": [
        "1. The Link Between my Project and the Fine-Tuning\n",
        "\n",
        "My Main Project Goal: To automatically process French political news (summarize, translate, classify by topic using your 7 specific categories like 'Gouvernement', 'Élections', etc.). I initially used a general-purpose tool (the zero-shot pipeline) for classification in my first notebook.\n",
        "\n",
        "The Problem: General tools might not be perfect for my specific needs. Maybe the zero-shot classification wasn't accurate enough, or its general labels didn't align well with your 7 topics.\n",
        "\n",
        "The Solution (Methodology): Fine-tuning is the standard technique to take a powerful pre-trained language model (like CamemBERT) and adapt or specialize it for a very specific task and dataset. If you had lots of examples of articles correctly labeled with your 7 topics, you could fine-tune CamemBERT to become really good at that specific job.\n",
        "\n",
        "The Demonstration: Because creating that large, custom-labeled dataset takes a lot of time, I used a readily available dataset (MasakhaNEWS) for a similar task (French news topic classification). By successfully fine-tuning CamemBERT on MasakhaNEWS and getting good accuracy (~91%), I demonstrated that I understand and can implement the process of fine-tuning.\n",
        "\n",
        "The Value Added:\n",
        "\n",
        "I can implement a more advanced technique.\n",
        "I understand the methodology needed to improve the classification part of your main project (if you had the specific data).\n",
        "I practically experienced how much difference having a larger dataset makes (0% vs 91% accuracy).\n",
        "\n",
        "In short: The fine-tuning exercise serves as a proof-of-concept and demonstration of the technique we would use to build a highly accurate, custom classifier specifically for your project's needs, even though we used a different dataset (MasakhaNEWS) and its labels for the demonstration itself due to practical constraints."
      ],
      "metadata": {
        "id": "fjxTLbT66gF9"
      }
    },
    {
      "cell_type": "markdown",
      "source": [
        "\n",
        "# Fine-Tuning a CamemBERT Model for French News Topic Classification\n",
        "\n",
        "## 1. Introduction & Motivation\n",
        "\n",
        "The main objective of this subproject was to enhance the topic classification capability of the RadioBrief pipeline by fine-tuning a transformer model on a labeled dataset. While the initial system used a zero-shot classification approach, this exercise demonstrates the value and methodology of adapting a pre-trained language model to a task-specific dataset.\n",
        "\n",
        "Due to the limited size of the dataset generated from the RadioBrief pipeline, the French subset of the publicly available MasakhaNEWS dataset was selected for training. The main goal was to establish a working pipeline for fine-tuning and to validate the process, serving as a proof-of-concept for future training on custom political categories.\n",
        "\n",
        "## 2. Methodology\n",
        "\n",
        "### 2.1. Dataset\n",
        "\n",
        "- **Source**: MasakhaNEWS (French subset)\n",
        "- **Size**:\n",
        "  - Training set: ~1476 articles\n",
        "  - Validation set: ~211 articles\n",
        "  - Test set: ~422 articles\n",
        "- **Labels**: ['business', 'entertainment', 'health', 'politics', 'religion', 'sports', 'technology']\n",
        "\n",
        "**Sample Dataset Preview:**\n",
        "\n",
        "[Insert df.head() table output here]\n",
        "\n",
        "**Label Distribution Visualization:**\n",
        "\n",
        "[Insert labels.png bar plot here]\n",
        "\n",
        "The label distribution shows that most categories are balanced (~210-220 samples), except for 'religion', which is underrepresented. This class imbalance may affect classification but did not significantly degrade validation accuracy.\n",
        "\n",
        "### 2.2. Model & Tokenization\n",
        "\n",
        "- **Base model**: camembert-base\n",
        "- **Output labels**: 7, aligned with MasakhaNEWS topics\n",
        "- **Tokenizer**: AutoTokenizer (CamemBERT), with inputs padded and truncated to 512 tokens\n",
        "\n",
        "### 2.3. Training Setup\n",
        "\n",
        "- **Platform**: Google Colab (with GPU)\n",
        "- **Libraries**: Hugging Face Transformers, Datasets, Evaluate, Accelerate\n",
        "- **Trainer settings**:\n",
        "  - `num_train_epochs`: 2\n",
        "  - `per_device_train_batch_size`: 8\n",
        "  - `per_device_eval_batch_size`: 16\n",
        "  - Logging/Evaluation/Save: Every epoch\n",
        "  - `load_best_model_at_end`: True (based on accuracy)\n",
        "\n",
        "### 2.4. Evaluation Metric\n",
        "\n",
        "- **Primary metric**: Accuracy (computed using `evaluate`)\n",
        "\n",
        "## 3. Results\n",
        "\n",
        "### 3.1. Training Dynamics\n",
        "\n",
        "Loss curves over two epochs:\n",
        "\n",
        "[Insert training_loss_plot.png here]\n",
        "\n",
        "The training loss decreased rapidly and then gradually flattened, while validation loss steadily dropped from ~0.4 to ~0.33, indicating effective learning without signs of overfitting.\n",
        "\n",
        "### 3.2. Evaluation Performance\n",
        "\n",
        "- **Validation accuracy**: ~91.0%\n",
        "- **Final validation loss**: ~0.329\n",
        "\n",
        "Confusion matrix shows classification distribution:\n",
        "\n",
        "[Insert confusion_matrix_plot.png here]\n",
        "\n",
        "The matrix confirms strong model performance, with high counts on the diagonal (correct predictions) and very few misclassifications. Most off-diagonal errors involve closely related categories like 'business' vs. 'politics'.\n",
        "\n",
        "### 3.3. Inference Example\n",
        "\n",
        "**Input**: \"Le président a rencontré les syndicats pour discuter de l'économie.\"  \n",
        "**Prediction**: 'business' (confidence ~80.4%)\n",
        "\n",
        "## 4. Conclusion\n",
        "\n",
        "The fine-tuning process successfully demonstrated the ability to train a domain-adapted classifier using camembert-base on a modest dataset. The resulting model achieved high validation accuracy and robust generalization after only two epochs of training.\n",
        "\n",
        "While the model is limited to MasakhaNEWS topics and does not reflect the more specific political categories of the main RadioBrief project, the process provides a clear methodological foundation for future training on a custom, annotated dataset.\n",
        "\n",
        "## To complete this section:\n",
        "we :\n",
        "\n",
        "- Pasted the `df.head()` Markdown table in the designated spot\n",
        "- Included the `labels.png`, `training_loss_plot.png`, and `confusion_matrix_plot.png` in the notebook\n"
      ],
      "metadata": {
        "id": "TABkWtut5DhR"
      }
    }
  ]
}